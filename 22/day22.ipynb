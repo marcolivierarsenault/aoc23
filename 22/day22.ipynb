{
 "cells": [
  {
   "cell_type": "code",
   "execution_count": 1,
   "metadata": {},
   "outputs": [],
   "source": [
    "import copy"
   ]
  },
  {
   "cell_type": "code",
   "execution_count": 2,
   "metadata": {},
   "outputs": [],
   "source": [
    "file1 = open('input.txt', 'r')\n",
    "lines = file1.readlines()"
   ]
  },
  {
   "cell_type": "code",
   "execution_count": 6,
   "metadata": {},
   "outputs": [],
   "source": [
    "bricks = {}\n",
    "positions = {}\n",
    "layers = {}\n",
    "\n",
    "angles = {0: (1, 0, 0), 1: (0, 1, 0), 2: (0, 0, 1)}\n",
    "\n",
    "for i, line in enumerate(lines):\n",
    "    name = f\"b{i}\"\n",
    "    brick = list(tuple(map(int, b.strip().split(\",\"))) for b in line.strip().split('~'))\n",
    "    length = list(map(lambda x: abs(brick[0][x] - brick[1][x]), range(3)))\n",
    "    nb_of_layer = max(length)\n",
    "    angle = length.index(nb_of_layer)\n",
    "    min_layer = min(list(map(lambda x: x[2], brick)))\n",
    "    #print(f\"brick {name}, {brick} has {nb_of_layer} layers and angle {angle} and min_layer {min_layer}\")\n",
    "    if nb_of_layer == 0:\n",
    "        bricks[name] = brick[:-1]\n",
    "        positions[brick[0][2]] = positions.get(brick[0][2], []) + [brick[0]]\n",
    "        layers[min_layer] = layers.get(min_layer, []) + [name]\n",
    "    elif nb_of_layer == 1:\n",
    "        bricks[name] = brick\n",
    "        for b in brick:\n",
    "            positions[b[2]] = positions.get(b[2], []) + [b]\n",
    "        layers[min_layer] = layers.get(min_layer, []) + [name]\n",
    "    else:\n",
    "        smallest = 0 if sum(brick[0]) < sum(brick[1]) else 1\n",
    "        evolved_bick = brick\n",
    "        layers[min_layer] = layers.get(min_layer, []) + [name]\n",
    "        for i in range(nb_of_layer-1):\n",
    "            new_point = evolved_bick[smallest]\n",
    "            for j in range(i+1):\n",
    "                new_point = tuple(map(lambda x: x[0] + x[1], zip(new_point, angles[angle])))\n",
    "            evolved_bick.append(new_point)\n",
    "        bricks[name] = evolved_bick\n",
    "        for b in evolved_bick:\n",
    "            positions[b[2]] = positions.get(b[2], []) + [b]\n",
    "\n",
    "\n",
    "def lower_layer(layer, positions_l, layers_l, bricks_l):\n",
    "    local_position = copy.deepcopy(positions_l)\n",
    "    local_layers = copy.deepcopy(layers_l)\n",
    "    local_bricks = copy.deepcopy(bricks_l)\n",
    "    moved = False\n",
    "    if layer not in local_layers:\n",
    "        return local_position, local_layers, local_bricks, moved\n",
    "    new_layer = {}\n",
    "    for i in local_layers[layer]:\n",
    "        brick = local_bricks[i]\n",
    "        for b in brick:\n",
    "            local_position[b[2]].remove(b)\n",
    "        bottom = False\n",
    "        while not bottom:\n",
    "            for b in brick:\n",
    "                if (b[0], b[1], b[2]-1) in local_position.get(b[2]-1, []) or b[2] == 1:\n",
    "                    bottom = True\n",
    "            if not bottom:\n",
    "                brick = [tuple(map(lambda x: x[0] - x[1], zip(new_point, angles[2]))) for new_point in brick]\n",
    "                moved = True\n",
    "        for b in brick:\n",
    "            local_position[b[2]] = local_position.get(b[2], []) + [b]\n",
    "        min_layer = min(list(map(lambda x: x[2], brick)))\n",
    "        new_layer[min_layer] = new_layer.get(min_layer, []) + [i]\n",
    "        local_bricks[i] = brick\n",
    "    local_layers[layer] = []\n",
    "    local_layers = { key:local_layers.get(key,[])+new_layer.get(key,[]) for key in set(list(local_layers.keys())+list(new_layer.keys())) }\n",
    "    return local_position, local_layers, local_bricks, moved\n",
    "\n",
    "\n",
    "def remove(brick_name, layer_number):\n",
    "    local_position = copy.deepcopy(positions)\n",
    "    local_layers = copy.deepcopy(layers)\n",
    "    local_bricks = copy.deepcopy(bricks)\n",
    "    brick = local_bricks[brick_name]\n",
    "    for b in brick:\n",
    "        local_position[b[2]].remove(b)\n",
    "    local_layers[layer_number].remove(brick_name)\n",
    "    local_bricks.pop(brick_name)\n",
    "    top = max(list(map(lambda x: x[2], brick)))\n",
    "\n",
    "    tmp_positions, tmp_layers, tmp_bricks, moved = lower_layer(layer_number+1, local_position, local_layers, local_bricks)\n",
    "\n",
    "    if top == layer_number:\n",
    "        return not moved\n",
    "    if moved:\n",
    "        return False\n",
    "    tmp_positions, tmp_layers, tmp_bricks, moved_top = lower_layer(top+1, local_position, local_layers, local_bricks)\n",
    "\n",
    "\n",
    "    return not moved and not moved_top\n",
    "\n"
   ]
  },
  {
   "cell_type": "code",
   "execution_count": 8,
   "metadata": {},
   "outputs": [],
   "source": [
    "ever_moved = []\n",
    "for i in range(1, max(layers.keys()) + 1):\n",
    "    positions, layers, bricks, moved = lower_layer(i, positions, layers, bricks)\n",
    "    ever_moved.append(moved)"
   ]
  },
  {
   "cell_type": "code",
   "execution_count": 9,
   "metadata": {},
   "outputs": [
    {
     "name": "stdout",
     "output_type": "stream",
     "text": [
      "Part1 : 530\n"
     ]
    }
   ],
   "source": [
    "counter_bricks = 0\n",
    "bricks_chain = {}\n",
    "for layer in reversed(layers):\n",
    "    for brick in layers[layer]:\n",
    "        if remove(brick, layer):\n",
    "            counter_bricks += 1\n",
    "print(f\"Part1 : {counter_bricks}\")"
   ]
  }
 ],
 "metadata": {
  "kernelspec": {
   "display_name": "Python 3",
   "language": "python",
   "name": "python3"
  },
  "language_info": {
   "codemirror_mode": {
    "name": "ipython",
    "version": 3
   },
   "file_extension": ".py",
   "mimetype": "text/x-python",
   "name": "python",
   "nbconvert_exporter": "python",
   "pygments_lexer": "ipython3",
   "version": "3.11.5"
  }
 },
 "nbformat": 4,
 "nbformat_minor": 2
}
