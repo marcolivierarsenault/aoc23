{
 "cells": [
  {
   "cell_type": "code",
   "execution_count": 1,
   "metadata": {},
   "outputs": [],
   "source": [
    "import numpy as np\n",
    "from functools import cache"
   ]
  },
  {
   "cell_type": "code",
   "execution_count": 2,
   "metadata": {},
   "outputs": [],
   "source": [
    "file1 = open('input.txt', 'r')\n",
    "lines = file1.readlines()"
   ]
  },
  {
   "cell_type": "code",
   "execution_count": 3,
   "metadata": {},
   "outputs": [
    {
     "data": {
      "text/plain": [
       "array([['O', '.', '.', '.', '.', '#', '.', '.', '.', '.'],\n",
       "       ['O', '.', 'O', 'O', '#', '.', '.', '.', '.', '#'],\n",
       "       ['.', '.', '.', '.', '.', '#', '#', '.', '.', '.'],\n",
       "       ['O', 'O', '.', '#', 'O', '.', '.', '.', '.', 'O'],\n",
       "       ['.', 'O', '.', '.', '.', '.', '.', 'O', '#', '.'],\n",
       "       ['O', '.', '#', '.', '.', 'O', '.', '#', '.', '#'],\n",
       "       ['.', '.', 'O', '.', '.', '#', 'O', '.', '.', 'O'],\n",
       "       ['.', '.', '.', '.', '.', '.', '.', 'O', '.', '.'],\n",
       "       ['#', '.', '.', '.', '.', '#', '#', '#', '.', '.'],\n",
       "       ['#', 'O', 'O', '.', '.', '#', '.', '.', '.', '.']], dtype='<U1')"
      ]
     },
     "execution_count": 3,
     "metadata": {},
     "output_type": "execute_result"
    }
   ],
   "source": [
    "input = np.array([list(line.strip()) for line in lines], dtype=str)\n",
    "input"
   ]
  },
  {
   "cell_type": "code",
   "execution_count": 3,
   "metadata": {},
   "outputs": [
    {
     "name": "stdout",
     "output_type": "stream",
     "text": [
      "part 1: 109596\n"
     ]
    }
   ],
   "source": [
    "input = np.array([list(line.strip()) for line in lines], dtype=str)\n",
    "\n",
    "def process_line(line):\n",
    "    next_space = -1\n",
    "    for pos in range(len(line)):\n",
    "        if line[pos] == '.' and next_space == -1:\n",
    "            next_space = pos\n",
    "            continue\n",
    "        if line[pos] == 'O':\n",
    "            if next_space == -1:\n",
    "                continue\n",
    "            line[next_space] = 'O'\n",
    "            line[pos] = '.'\n",
    "            next_space += 1\n",
    "            continue\n",
    "        if line[pos] == '#':\n",
    "            next_space = -1\n",
    "            continue\n",
    "    return line\n",
    "\n",
    "for i in range(input.shape[1]):\n",
    "    input[:,i] = process_line(input[:,i])\n",
    "\n",
    "sum_v1 = 0\n",
    "for i, line in enumerate(input):\n",
    "    current_score = sum(line == 'O') * (input.shape[0] - i)\n",
    "    sum_v1 += current_score\n",
    "print(f\"part 1: {sum_v1}\")"
   ]
  },
  {
   "cell_type": "code",
   "execution_count": 47,
   "metadata": {},
   "outputs": [
    {
     "name": "stdout",
     "output_type": "stream",
     "text": [
      "part 2: 96093\n",
      "[['.' '.' '.' ... '.' '.' 'O']\n",
      " ['O' '#' '.' ... '.' '.' '.']\n",
      " ['.' '.' '.' ... '#' '#' '.']\n",
      " ...\n",
      " ['.' '.' '.' ... '.' 'O' 'O']\n",
      " ['O' 'O' 'O' ... 'O' 'O' 'O']\n",
      " ['O' 'O' '#' ... '.' 'O' 'O']]\n"
     ]
    }
   ],
   "source": [
    "input = np.array([list(line.strip()) for line in lines], dtype=str)\n",
    "nb_cycle = 1000\n",
    "\n",
    "history = {}\n",
    "\n",
    "def create_hash(input):\n",
    "    return ''.join(input.flatten())\n",
    "\n",
    "nb_loop = 0\n",
    "for j in range(nb_cycle):\n",
    "    hash = create_hash(input)\n",
    "\n",
    "    if nb_loop == 50:\n",
    "        break\n",
    "\n",
    "    if hash in history:\n",
    "        input = history[hash][\"data\"]\n",
    "        history[hash][\"all\"].append(j)\n",
    "        nb_loop += 1\n",
    "        continue\n",
    "    nb_loop = 0\n",
    "    #north\n",
    "    for i in range(input.shape[1]):\n",
    "        input[:,i] = process_line(input[:,i])\n",
    "    #west\n",
    "    for i in range(input.shape[0]):\n",
    "        input[i] = process_line(input[i])\n",
    "\n",
    "    #south\n",
    "    for i in range(input.shape[1]):\n",
    "        input[:,i] = np.flip(process_line(np.flip(input[:,i])))\n",
    "\n",
    "    #east\n",
    "    for i in range(input.shape[0]):\n",
    "        input[i] = np.flip(process_line(np.flip(input[i])))\n",
    "\n",
    "    history[hash] = {\"data\": input.copy(), \"original\": j, \"all\": []}\n",
    "\n",
    "\n",
    "sum_v2 = 0\n",
    "for i, line in enumerate(input):\n",
    "    current_score = sum(line == 'O') * (input.shape[0] - i)\n",
    "    sum_v2 += current_score\n",
    "print(f\"part 2: {sum_v2}\")\n",
    "print(input)"
   ]
  },
  {
   "cell_type": "code",
   "execution_count": 48,
   "metadata": {},
   "outputs": [
    {
     "name": "stdout",
     "output_type": "stream",
     "text": [
      "0 []\n",
      "1 []\n",
      "2 []\n",
      "3 []\n",
      "4 []\n",
      "5 []\n",
      "6 []\n",
      "7 []\n",
      "8 []\n",
      "9 []\n",
      "10 []\n",
      "11 []\n",
      "12 []\n",
      "13 []\n",
      "14 []\n",
      "15 []\n",
      "16 []\n",
      "17 []\n",
      "18 []\n",
      "19 []\n",
      "20 []\n",
      "21 []\n",
      "22 []\n",
      "23 []\n",
      "24 []\n",
      "25 []\n",
      "26 []\n",
      "27 []\n",
      "28 []\n",
      "29 []\n",
      "30 []\n",
      "31 []\n",
      "32 []\n",
      "33 []\n",
      "34 []\n",
      "35 []\n",
      "36 []\n",
      "37 []\n",
      "38 []\n",
      "39 []\n",
      "40 []\n",
      "41 []\n",
      "42 []\n",
      "43 []\n",
      "44 []\n",
      "45 []\n",
      "46 []\n",
      "47 []\n",
      "48 []\n",
      "49 []\n",
      "50 []\n",
      "51 []\n",
      "52 []\n",
      "53 []\n",
      "54 []\n",
      "55 []\n",
      "56 []\n",
      "57 []\n",
      "58 []\n",
      "59 []\n",
      "60 []\n",
      "61 []\n",
      "62 []\n",
      "63 []\n",
      "64 []\n",
      "65 []\n",
      "66 []\n",
      "67 []\n",
      "68 []\n",
      "69 []\n",
      "70 []\n",
      "71 []\n",
      "72 []\n",
      "73 []\n",
      "74 []\n",
      "75 []\n",
      "76 []\n",
      "77 []\n",
      "78 []\n",
      "79 []\n",
      "80 []\n",
      "81 []\n",
      "82 []\n",
      "83 []\n",
      "84 []\n",
      "85 []\n",
      "86 []\n",
      "87 []\n",
      "88 []\n",
      "89 []\n",
      "90 []\n",
      "91 []\n",
      "92 []\n",
      "93 []\n",
      "94 []\n",
      "95 []\n",
      "96 [107, 118, 129, 140, 151]\n",
      "97 [108, 119, 130, 141, 152]\n",
      "98 [109, 120, 131, 142, 153]\n",
      "99 [110, 121, 132, 143, 154]\n",
      "100 [111, 122, 133, 144, 155]\n",
      "101 [112, 123, 134, 145, 156]\n",
      "102 [113, 124, 135, 146]\n",
      "103 [114, 125, 136, 147]\n",
      "104 [115, 126, 137, 148]\n",
      "105 [116, 127, 138, 149]\n",
      "106 [117, 128, 139, 150]\n"
     ]
    }
   ],
   "source": [
    "for i in history.values():\n",
    "    print(i[\"original\"], i[\"all\"])"
   ]
  },
  {
   "cell_type": "code",
   "execution_count": 49,
   "metadata": {},
   "outputs": [],
   "source": [
    "start = min([i[\"original\"] for i in list(filter(lambda x: x[\"all\"], history.values()))])\n",
    "loop = len(list(filter(lambda x: x[\"all\"], history.values())))"
   ]
  },
  {
   "cell_type": "code",
   "execution_count": 50,
   "metadata": {},
   "outputs": [
    {
     "data": {
      "text/plain": [
       "[96, 97, 98, 99, 100, 101, 102, 103, 104, 105, 106]"
      ]
     },
     "execution_count": 50,
     "metadata": {},
     "output_type": "execute_result"
    }
   ],
   "source": [
    "[i[\"original\"] for i in list(filter(lambda x: x[\"all\"], history.values()))]"
   ]
  },
  {
   "cell_type": "code",
   "execution_count": 52,
   "metadata": {},
   "outputs": [
    {
     "name": "stdout",
     "output_type": "stream",
     "text": [
      "start: 96, loop: 11\n"
     ]
    }
   ],
   "source": [
    "print(f\"start: {start}, loop: {loop}\")"
   ]
  },
  {
   "cell_type": "code",
   "execution_count": 56,
   "metadata": {},
   "outputs": [
    {
     "data": {
      "text/plain": [
       "98"
      ]
     },
     "execution_count": 56,
     "metadata": {},
     "output_type": "execute_result"
    }
   ],
   "source": [
    "(1000000000 - (start )) % loop + start"
   ]
  },
  {
   "cell_type": "code",
   "execution_count": 63,
   "metadata": {},
   "outputs": [],
   "source": [
    "cache = list(filter(lambda x: x[\"original\"] == 98, history.values()))[0][\"data\"]"
   ]
  },
  {
   "cell_type": "code",
   "execution_count": 64,
   "metadata": {},
   "outputs": [
    {
     "name": "stdout",
     "output_type": "stream",
     "text": [
      "part 2: 96094\n"
     ]
    }
   ],
   "source": [
    "sum_v2 = 0\n",
    "for i, line in enumerate(cache):\n",
    "    current_score = sum(line == 'O') * (cache.shape[0] - i)\n",
    "    sum_v2 += current_score\n",
    "print(f\"part 2: {sum_v2}\")"
   ]
  },
  {
   "cell_type": "code",
   "execution_count": 100,
   "metadata": {},
   "outputs": [
    {
     "name": "stdout",
     "output_type": "stream",
     "text": [
      "[[1 2 3]\n",
      " [4 5 6]\n",
      " [7 8 9]]\n",
      "(1, 2, 3, 4, 5, 6, 7, 8, 9)\n",
      "inside\n",
      "111111111\n",
      "[[1 2 3]\n",
      " [4 5 6]\n",
      " [7 8 9]]\n",
      "111111111\n",
      "[[1 2 3]\n",
      " [4 5 6]\n",
      " [7 8 9]]\n"
     ]
    }
   ],
   "source": [
    "input = np.array([list(line.strip()) for line in lines], dtype=str)\n",
    "nb_cycle = 1000000000\n",
    "\n",
    "@cache\n",
    "def process_line_v2(line):\n",
    "    line = np.array(line)\n",
    "    next_space = -1\n",
    "    for pos in range(len(line)):\n",
    "        if line[pos] == '.' and next_space == -1:\n",
    "            next_space = pos\n",
    "            continue\n",
    "        if line[pos] == 'O':\n",
    "            if next_space == -1:\n",
    "                continue\n",
    "            line[next_space] = 'O'\n",
    "            line[pos] = '.'\n",
    "            next_space += 1\n",
    "            continue\n",
    "        if line[pos] == '#':\n",
    "            next_space = -1\n",
    "            continue\n",
    "    return line\n",
    "\n",
    "\n",
    "@cache\n",
    "def rotate(vec, x, y):\n",
    "    return_input = np.reshape(vec, (x, y))\n",
    "    #north\n",
    "    for i in range(return_input.shape[1]):\n",
    "        return_input[:,i] = process_line_v2(tuple(return_input[:,i]))\n",
    "    #west\n",
    "    for i in range(return_input.shape[0]):\n",
    "        return_input[i] = process_line_v2(tuple(return_input[i]))\n",
    "\n",
    "    #south\n",
    "    for i in range(return_input.shape[1]):\n",
    "        return_input[:,i] = np.flip(process_line_v2(tuple(np.flip(return_input[:,i]))))\n",
    "\n",
    "    #east\n",
    "    for i in range(return_input.shape[0]):\n",
    "        return_input[i] = np.flip(process_line_v2(tuple(np.flip(return_input[i]))))\n",
    "    return return_input\n",
    "\n",
    "for i in range(nb_cycle):\n",
    "    input = rotate(tuple(np.reshape(input, (input.shape[0] * input.shape[1]))), input.shape[0], input.shape[1])\n",
    "\n",
    "\n",
    "print(input)\n",
    "sum_v2 = 0\n",
    "for i, line in enumerate(input):\n",
    "    current_score = sum(line == 'O') * (input.shape[0] - i)\n",
    "    sum_v2 += current_score\n",
    "print(f\"part 2: {sum_v2}\")"
   ]
  },
  {
   "cell_type": "code",
   "execution_count": 72,
   "metadata": {},
   "outputs": [],
   "source": [
    "import sys\n",
    "import numpy\n",
    "numpy.set_printoptions(threshold=sys.maxsize)"
   ]
  }
 ],
 "metadata": {
  "kernelspec": {
   "display_name": "Python 3",
   "language": "python",
   "name": "python3"
  },
  "language_info": {
   "codemirror_mode": {
    "name": "ipython",
    "version": 3
   },
   "file_extension": ".py",
   "mimetype": "text/x-python",
   "name": "python",
   "nbconvert_exporter": "python",
   "pygments_lexer": "ipython3",
   "version": "3.12.0"
  }
 },
 "nbformat": 4,
 "nbformat_minor": 2
}
