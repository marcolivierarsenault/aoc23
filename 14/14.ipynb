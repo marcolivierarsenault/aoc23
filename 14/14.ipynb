{
 "cells": [
  {
   "cell_type": "code",
   "execution_count": 1,
   "metadata": {},
   "outputs": [],
   "source": [
    "import numpy as np\n",
    "from functools import cache"
   ]
  },
  {
   "cell_type": "code",
   "execution_count": 2,
   "metadata": {},
   "outputs": [],
   "source": [
    "file1 = open('input.txt', 'r')\n",
    "lines = file1.readlines()"
   ]
  },
  {
   "cell_type": "code",
   "execution_count": 3,
   "metadata": {},
   "outputs": [
    {
     "name": "stdout",
     "output_type": "stream",
     "text": [
      "part 1: 109596\n"
     ]
    }
   ],
   "source": [
    "input = np.array([list(line.strip()) for line in lines], dtype=str)\n",
    "\n",
    "def process_line(line):\n",
    "    next_space = -1\n",
    "    for pos in range(len(line)):\n",
    "        if line[pos] == '.' and next_space == -1:\n",
    "            next_space = pos\n",
    "            continue\n",
    "        if line[pos] == 'O':\n",
    "            if next_space == -1:\n",
    "                continue\n",
    "            line[next_space] = 'O'\n",
    "            line[pos] = '.'\n",
    "            next_space += 1\n",
    "            continue\n",
    "        if line[pos] == '#':\n",
    "            next_space = -1\n",
    "            continue\n",
    "    return line\n",
    "\n",
    "for i in range(input.shape[1]):\n",
    "    input[:,i] = process_line(input[:,i])\n",
    "\n",
    "sum_v1 = 0\n",
    "for i, line in enumerate(input):\n",
    "    current_score = sum(line == 'O') * (input.shape[0] - i)\n",
    "    sum_v1 += current_score\n",
    "print(f\"part 1: {sum_v1}\")"
   ]
  },
  {
   "cell_type": "code",
   "execution_count": 4,
   "metadata": {},
   "outputs": [
    {
     "name": "stdout",
     "output_type": "stream",
     "text": [
      "part 2: 96105\n"
     ]
    }
   ],
   "source": [
    "input = np.array([list(line.strip()) for line in lines], dtype=str)\n",
    "nb_cycle = 1000\n",
    "\n",
    "history = {}\n",
    "\n",
    "def create_hash(input):\n",
    "    return ''.join(input.flatten())\n",
    "\n",
    "nb_loop = 0\n",
    "for j in range(nb_cycle):\n",
    "    hash = create_hash(input)\n",
    "\n",
    "    if nb_loop == 50:\n",
    "        break\n",
    "\n",
    "    if hash in history:\n",
    "        input = history[hash][\"data\"]\n",
    "        history[hash][\"all\"].append(j)\n",
    "        nb_loop += 1\n",
    "        continue\n",
    "    nb_loop = 0\n",
    "    #north\n",
    "    for i in range(input.shape[1]):\n",
    "        input[:,i] = process_line(input[:,i])\n",
    "    #west\n",
    "    for i in range(input.shape[0]):\n",
    "        input[i] = process_line(input[i])\n",
    "\n",
    "    #south\n",
    "    for i in range(input.shape[1]):\n",
    "        input[:,i] = np.flip(process_line(np.flip(input[:,i])))\n",
    "\n",
    "    #east\n",
    "    for i in range(input.shape[0]):\n",
    "        input[i] = np.flip(process_line(np.flip(input[i])))\n",
    "\n",
    "    history[hash] = {\"data\": input.copy(), \"original\": j, \"all\": []}\n",
    "\n",
    "\n",
    "start = min([i[\"original\"] for i in list(filter(lambda x: x[\"all\"], history.values()))])\n",
    "loop = len(list(filter(lambda x: x[\"all\"], history.values())))\n",
    "\n",
    "key = (1000000000 - (start )) % loop + start - 1\n",
    "cache = list(filter(lambda x: x[\"original\"] == key, history.values()))[0][\"data\"]\n",
    "\n",
    "sum_v2 = 0\n",
    "for i, line in enumerate(cache):\n",
    "    current_score = sum(line == 'O') * (cache.shape[0] - i)\n",
    "    sum_v2 += current_score\n",
    "print(f\"part 2: {sum_v2}\")"
   ]
  }
 ],
 "metadata": {
  "kernelspec": {
   "display_name": "Python 3",
   "language": "python",
   "name": "python3"
  },
  "language_info": {
   "codemirror_mode": {
    "name": "ipython",
    "version": 3
   },
   "file_extension": ".py",
   "mimetype": "text/x-python",
   "name": "python",
   "nbconvert_exporter": "python",
   "pygments_lexer": "ipython3",
   "version": "3.11.5"
  }
 },
 "nbformat": 4,
 "nbformat_minor": 2
}
