{
 "cells": [
  {
   "cell_type": "code",
   "execution_count": 1,
   "metadata": {},
   "outputs": [],
   "source": [
    "import numpy as np\n",
    "import sys"
   ]
  },
  {
   "cell_type": "code",
   "execution_count": 2,
   "metadata": {},
   "outputs": [],
   "source": [
    "file1 = open('input.txt', 'r')\n",
    "lines = file1.readlines()"
   ]
  },
  {
   "cell_type": "code",
   "execution_count": 3,
   "metadata": {},
   "outputs": [],
   "source": [
    "input = np.array([list(line.strip()) for line in lines], dtype=str)"
   ]
  },
  {
   "cell_type": "code",
   "execution_count": 4,
   "metadata": {},
   "outputs": [],
   "source": [
    "sys.setrecursionlimit(input.shape[0] * input.shape[1]+100)"
   ]
  },
  {
   "cell_type": "code",
   "execution_count": 5,
   "metadata": {},
   "outputs": [
    {
     "name": "stdout",
     "output_type": "stream",
     "text": [
      "part 1: 7884\n"
     ]
    }
   ],
   "source": [
    "already_seen = set()\n",
    "\n",
    "def run(start_point, angle):\n",
    "    if start_point[0] < 0 or start_point[1] < 0 or start_point[0] >= input.shape[1] or start_point[1] >= input.shape[0]:\n",
    "        return None\n",
    "    if (start_point, angle) in already_seen:\n",
    "        return None\n",
    "    already_seen.add((start_point, angle))\n",
    "    if input[start_point[1], start_point[0]] == '.':\n",
    "        if angle == 'U':\n",
    "            run((start_point[0], start_point[1] - 1), angle)\n",
    "        elif angle == 'D':\n",
    "            run((start_point[0], start_point[1] + 1), angle)\n",
    "        elif angle == 'L':\n",
    "            run((start_point[0] - 1, start_point[1]), angle)\n",
    "        elif angle == 'R':\n",
    "            run((start_point[0] + 1, start_point[1]), angle)\n",
    "    elif input[start_point[1], start_point[0]] == '|':\n",
    "        if angle == 'U':\n",
    "            run((start_point[0], start_point[1] - 1), angle)\n",
    "        elif angle == 'D':\n",
    "            run((start_point[0], start_point[1] + 1), angle)\n",
    "        elif angle == 'L' or angle == 'R':\n",
    "            run((start_point[0], start_point[1] - 1), 'U')\n",
    "            run((start_point[0], start_point[1] + 1), 'D')\n",
    "    elif input[start_point[1], start_point[0]] == '-':\n",
    "        if angle == 'L':\n",
    "            run((start_point[0] - 1, start_point[1]), angle)\n",
    "        elif angle == 'R':\n",
    "            run((start_point[0] + 1, start_point[1]), angle)\n",
    "        elif angle == 'U' or angle == 'D':\n",
    "            run((start_point[0] - 1, start_point[1]), 'L')\n",
    "            run((start_point[0] + 1, start_point[1]), 'R')\n",
    "    elif input[start_point[1], start_point[0]] == '/':\n",
    "        if angle == 'U':\n",
    "            run((start_point[0] + 1, start_point[1]), 'R')\n",
    "        elif angle == 'D':\n",
    "            run((start_point[0] - 1, start_point[1]), 'L')\n",
    "        elif angle == 'L':\n",
    "            run((start_point[0], start_point[1] + 1), 'D')\n",
    "        elif angle == 'R':\n",
    "            run((start_point[0], start_point[1] - 1), 'U')\n",
    "    elif input[start_point[1], start_point[0]] == '\\\\':\n",
    "        if angle == 'U':\n",
    "            run((start_point[0] - 1, start_point[1]), 'L')\n",
    "        elif angle == 'D':\n",
    "            run((start_point[0] + 1, start_point[1]), 'R')\n",
    "        elif angle == 'L':\n",
    "            run((start_point[0], start_point[1] - 1), 'U')\n",
    "        elif angle == 'R':\n",
    "            run((start_point[0], start_point[1] + 1), 'D')\n",
    "\n",
    "run((0, 0), 'R')\n",
    "print(f\"part 1: {len(set([x[0] for x in already_seen]))}\")"
   ]
  },
  {
   "cell_type": "code",
   "execution_count": 6,
   "metadata": {},
   "outputs": [
    {
     "name": "stdout",
     "output_type": "stream",
     "text": [
      "part 2: 8185\n"
     ]
    }
   ],
   "source": [
    "max_seen = 0\n",
    "for i in range(input.shape[0]):\n",
    "    already_seen = set()\n",
    "    run((0, i), 'R')\n",
    "    max_seen = max(max_seen, len(set([x[0] for x in already_seen])))\n",
    "    already_seen = set()\n",
    "    run((input.shape[1] - 1, i), 'L')\n",
    "    max_seen = max(max_seen, len(set([x[0] for x in already_seen])))\n",
    "\n",
    "\n",
    "for i in range(input.shape[1]):\n",
    "    already_seen = set()\n",
    "    run((i, 0), 'D')\n",
    "    max_seen = max(max_seen, len(set([x[0] for x in already_seen])))\n",
    "    already_seen = set()\n",
    "    run((i, input.shape[0] - 1), 'U')\n",
    "    max_seen = max(max_seen, len(set([x[0] for x in already_seen])))\n",
    "print(f\"part 2: {max_seen}\")"
   ]
  }
 ],
 "metadata": {
  "kernelspec": {
   "display_name": "Python 3",
   "language": "python",
   "name": "python3"
  },
  "language_info": {
   "codemirror_mode": {
    "name": "ipython",
    "version": 3
   },
   "file_extension": ".py",
   "mimetype": "text/x-python",
   "name": "python",
   "nbconvert_exporter": "python",
   "pygments_lexer": "ipython3",
   "version": "3.12.0"
  }
 },
 "nbformat": 4,
 "nbformat_minor": 2
}
