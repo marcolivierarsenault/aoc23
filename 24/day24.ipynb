{
 "cells": [
  {
   "cell_type": "code",
   "execution_count": 1,
   "metadata": {},
   "outputs": [],
   "source": [
    "import shapely\n",
    "from shapely.geometry import LineString\n",
    "from itertools import combinations\n",
    "import regex as re\n",
    "import sympy as sym"
   ]
  },
  {
   "cell_type": "code",
   "execution_count": 2,
   "metadata": {},
   "outputs": [],
   "source": [
    "file1 = open('input.txt', 'r')\n",
    "lines = file1.readlines()"
   ]
  },
  {
   "cell_type": "code",
   "execution_count": 3,
   "metadata": {},
   "outputs": [
    {
     "name": "stdout",
     "output_type": "stream",
     "text": [
      "Part1 11098\n"
     ]
    }
   ],
   "source": [
    "example = (7, 27)\n",
    "real = (200000000000000, 400000000000000)\n",
    "window = real\n",
    "\n",
    "extrapolation = 400000000000000\n",
    "\n",
    "points = []\n",
    "coordinates = []\n",
    "\n",
    "def get_coordinates(x, y, ax, ay):\n",
    "    return LineString([(x, y, 0), (x + ax * extrapolation, y + ay * extrapolation, extrapolation)])\n",
    "\n",
    "for line in lines:\n",
    "    matches = re.match(r'(\\d*), (\\d*), (\\d*) @ +(-?\\d+), +(-?\\d+), +(-?\\d+)', line).groups()\n",
    "    points.append(get_coordinates(int(matches[0]), int(matches[1]), int(matches[3]), int(matches[4])))\n",
    "    coordinates.append((int(matches[0]), int(matches[1]), int(matches[2]), int(matches[3]), int(matches[4]), int(matches[5])))\n",
    "\n",
    "count = 0\n",
    "for pair in combinations(points, 2):\n",
    "    inter = pair[0].intersection(pair[1])\n",
    "    if inter and inter.x >= window[0] and inter.x <= window[1] and inter.y >= window[0] and inter.y <= window[1]:\n",
    "        count += 1\n",
    "\n",
    "print(f\"Part1 {count}\")\n"
   ]
  },
  {
   "cell_type": "code",
   "execution_count": 4,
   "metadata": {},
   "outputs": [
    {
     "name": "stdout",
     "output_type": "stream",
     "text": [
      "part2 920630818300104\n"
     ]
    }
   ],
   "source": [
    "equations = []\n",
    "\n",
    "unknown = sym.symbols(\"t0, t1, t2, t3, x, y, z, ax, ay, az\")\n",
    "nm_time = 4\n",
    "for n in range(nm_time):\n",
    "    for i in range(3):\n",
    "        equations.append(sym.Eq(coordinates[n][i] + coordinates[n][3+i] * unknown[n], unknown[nm_time+i] + unknown[nm_time+i+3] * unknown[n]))\n",
    "\n",
    "s = sym.solve(equations, unknown,dict=True)[0]\n",
    "print(f\"part2 {s[unknown[nm_time]]+s[unknown[nm_time+1]]+s[unknown[nm_time+2]]}\")"
   ]
  }
 ],
 "metadata": {
  "kernelspec": {
   "display_name": "Python 3",
   "language": "python",
   "name": "python3"
  },
  "language_info": {
   "codemirror_mode": {
    "name": "ipython",
    "version": 3
   },
   "file_extension": ".py",
   "mimetype": "text/x-python",
   "name": "python",
   "nbconvert_exporter": "python",
   "pygments_lexer": "ipython3",
   "version": "3.11.5"
  }
 },
 "nbformat": 4,
 "nbformat_minor": 2
}
