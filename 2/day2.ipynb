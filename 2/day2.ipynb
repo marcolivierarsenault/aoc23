{
 "cells": [
  {
   "cell_type": "code",
   "execution_count": 1,
   "metadata": {},
   "outputs": [],
   "source": [
    "file1 = open('input.txt', 'r')\n",
    "lines = file1.readlines()\n"
   ]
  },
  {
   "cell_type": "code",
   "execution_count": 2,
   "metadata": {},
   "outputs": [],
   "source": [
    "cubelimit = {\n",
    "    \"red\": 12,\n",
    "    \"blue\": 14,\n",
    "    \"green\": 13,\n",
    "}\n"
   ]
  },
  {
   "cell_type": "code",
   "execution_count": 3,
   "metadata": {},
   "outputs": [
    {
     "name": "stdout",
     "output_type": "stream",
     "text": [
      "part one: 2447\n",
      "part two: 56322\n"
     ]
    }
   ],
   "source": [
    "part_one_sum = 0\n",
    "part_two_sum = 0\n",
    "\n",
    "for line in lines:\n",
    "    game,results = line.split(\": \")\n",
    "    game = int(game.split(\" \")[1])\n",
    "    cube_minimum = {\n",
    "        \"red\": 0,\n",
    "        \"blue\": 0,\n",
    "        \"green\": 0,\n",
    "    }\n",
    "    draws = results.replace(\"\\n\",\"\").split(\"; \")\n",
    "    doable = True\n",
    "    for draw in draws:\n",
    "        blocs = draw.split(\", \")\n",
    "        for bloc in blocs:\n",
    "            number, color = bloc.split(\" \")\n",
    "            if int(number) > cubelimit[color]:\n",
    "                doable = False\n",
    "            cube_minimum[color] = max(int(number), cube_minimum[color])\n",
    "    if doable:\n",
    "        part_one_sum += game\n",
    "    part_two_sum += cube_minimum[\"red\"] * cube_minimum[\"blue\"] * cube_minimum[\"green\"]\n",
    "\n",
    "print(f\"part one: {part_one_sum}\")\n",
    "print(f\"part two: {part_two_sum}\")\n",
    "\n"
   ]
  }
 ],
 "metadata": {
  "kernelspec": {
   "display_name": "Python 3",
   "language": "python",
   "name": "python3"
  },
  "language_info": {
   "codemirror_mode": {
    "name": "ipython",
    "version": 3
   },
   "file_extension": ".py",
   "mimetype": "text/x-python",
   "name": "python",
   "nbconvert_exporter": "python",
   "pygments_lexer": "ipython3",
   "version": "3.12.0"
  }
 },
 "nbformat": 4,
 "nbformat_minor": 2
}
