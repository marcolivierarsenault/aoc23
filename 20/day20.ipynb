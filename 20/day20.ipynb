{
 "cells": [
  {
   "cell_type": "code",
   "execution_count": 13,
   "metadata": {},
   "outputs": [],
   "source": [
    "import graphviz\n"
   ]
  },
  {
   "cell_type": "code",
   "execution_count": 34,
   "metadata": {},
   "outputs": [],
   "source": [
    "file1 = open('input.txt', 'r')\n",
    "lines = file1.readlines()"
   ]
  },
  {
   "cell_type": "code",
   "execution_count": 44,
   "metadata": {},
   "outputs": [
    {
     "data": {
      "text/plain": [
       "{'a': {'type': '%', 'value': ['inv', 'con'], 'state': 'off'},\n",
       " 'b': {'type': '%', 'value': ['con'], 'state': 'off'}}"
      ]
     },
     "execution_count": 44,
     "metadata": {},
     "output_type": "execute_result"
    }
   ],
   "source": [
    "dict(filter(lambda x: \"con\" in x[1][\"value\"], instructions.items()))"
   ]
  },
  {
   "cell_type": "code",
   "execution_count": 55,
   "metadata": {},
   "outputs": [
    {
     "name": "stdout",
     "output_type": "stream",
     "text": [
      "button -> low -> broadcaster\n",
      "broadcaster -> low -> a\n",
      "a -> high -> inv\n",
      "inv -> low -> b\n",
      "b -> high -> con\n",
      "con -> high -> output\n",
      "a -> high -> con\n",
      "con -> low -> output\n"
     ]
    },
    {
     "data": {
      "text/plain": [
       "(4, 4)"
      ]
     },
     "execution_count": 55,
     "metadata": {},
     "output_type": "execute_result"
    }
   ],
   "source": [
    "instructions = {}\n",
    "for line in lines:\n",
    "    instruction = line.strip().split(' -> ')\n",
    "    if instruction[0] == \"broadcaster\":\n",
    "        instructions[instruction[0]] = {\"type\": \"broadcaster\", \"value\": instruction[1].split(\", \")}\n",
    "    elif instruction[0][0] == \"%\":\n",
    "        instructions[instruction[0][1:]] = {\"type\": instruction[0][0], \"value\": instruction[1].split(\", \"), \"state\": \"off\"}#flipflop\n",
    "    elif instruction[0][0] == \"&\":\n",
    "        instructions[instruction[0][1:]] = {\"type\": instruction[0][0], \"value\": instruction[1].split(\", \"), \"last\": {}}#Conjunction\n",
    "\n",
    "for key in instructions:\n",
    "    if instructions[key][\"type\"] == \"&\":\n",
    "        for i in list(dict(filter(lambda x: key in x[1][\"value\"], instructions.items())).keys()):\n",
    "            instructions[key][\"last\"][i] = \"low\"\n",
    "\n",
    "def process_button(current_command, source, signal):\n",
    "    print(f\"{source} -> {signal} -> {current_command}\")\n",
    "    counters = (0,0)\n",
    "    change = (0,1) if signal == \"low\" else (1,0)\n",
    "    counters = tuple(map(sum, zip(counters, change)))\n",
    "\n",
    "    if not current_command in instructions:\n",
    "        return counters\n",
    "\n",
    "    if instructions[current_command][\"type\"] == \"broadcaster\":\n",
    "        for i in instructions[current_command][\"value\"]:\n",
    "            counters = tuple(map(sum, zip(counters, process_button(i, current_command, signal))))\n",
    "        return counters\n",
    "\n",
    "    if instructions[current_command][\"type\"] == \"&\":#Conjunction\n",
    "        instructions[current_command][\"last\"][source] = signal\n",
    "        if all(list(map(lambda x: x == \"high\", instructions[current_command][\"last\"].values()))):\n",
    "            for i in instructions[current_command][\"value\"]:\n",
    "                counters = tuple(map(sum, zip(counters,process_button(i, current_command, \"low\"))))\n",
    "        else:\n",
    "            for i in instructions[current_command][\"value\"]:\n",
    "                counters = tuple(map(sum, zip(counters,process_button(i, current_command, \"high\"))))\n",
    "        return counters\n",
    "\n",
    "    if instructions[current_command][\"type\"] == \"%\": #flipflop\n",
    "        if signal == \"low\":\n",
    "            if instructions[current_command][\"state\"] == \"off\":\n",
    "                instructions[current_command][\"state\"] = \"on\"\n",
    "                for i in instructions[current_command][\"value\"]:\n",
    "                    counters = tuple(map(sum, zip(counters, process_button(i, current_command, \"high\"))))\n",
    "            else:\n",
    "                instructions[current_command][\"state\"] = \"off\"\n",
    "                for i in instructions[current_command][\"value\"]:\n",
    "                    counters = tuple(map(sum, zip(counters, process_button(i, current_command, \"low\"))))\n",
    "        return counters\n",
    "\n",
    "\n",
    "process_button(\"broadcaster\", \"button\", \"low\")\n",
    "\n"
   ]
  },
  {
   "cell_type": "code",
   "execution_count": 31,
   "metadata": {},
   "outputs": [
    {
     "data": {
      "text/plain": [
       "True"
      ]
     },
     "execution_count": 31,
     "metadata": {},
     "output_type": "execute_result"
    }
   ],
   "source": [
    "counters = (0, 0)\n",
    "for i in range(1000):\n",
    "    counters = tuple(map(sum, zip(counters, process_button(\"broadcaster\", \"button\", \"low\"))))\n",
    "print(f\"part1: {counters[0]*counters[1]}\")"
   ]
  },
  {
   "cell_type": "code",
   "execution_count": 26,
   "metadata": {},
   "outputs": [
    {
     "data": {
      "text/plain": [
       "'round-table.gv.pdf'"
      ]
     },
     "execution_count": 26,
     "metadata": {},
     "output_type": "execute_result"
    }
   ],
   "source": [
    "dot = graphviz.Digraph(comment='The Machine')\n",
    "for key in instructions:\n",
    "    dot.node(key, key)\n",
    "for key in instructions:\n",
    "    for i in instructions[key][\"value\"]:\n",
    "        dot.edge(key, i)\n",
    "\n",
    "dot.render('round-table.gv', view=True)"
   ]
  }
 ],
 "metadata": {
  "kernelspec": {
   "display_name": "Python 3",
   "language": "python",
   "name": "python3"
  },
  "language_info": {
   "codemirror_mode": {
    "name": "ipython",
    "version": 3
   },
   "file_extension": ".py",
   "mimetype": "text/x-python",
   "name": "python",
   "nbconvert_exporter": "python",
   "pygments_lexer": "ipython3",
   "version": "3.12.0"
  }
 },
 "nbformat": 4,
 "nbformat_minor": 2
}
