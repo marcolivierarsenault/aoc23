{
 "cells": [
  {
   "cell_type": "code",
   "execution_count": 1,
   "metadata": {},
   "outputs": [],
   "source": [
    "import graphviz\n",
    "from math import lcm\n",
    "from functools import reduce\n"
   ]
  },
  {
   "cell_type": "code",
   "execution_count": 2,
   "metadata": {},
   "outputs": [],
   "source": [
    "file1 = open('input.txt', 'r')\n",
    "lines = file1.readlines()"
   ]
  },
  {
   "cell_type": "code",
   "execution_count": 3,
   "metadata": {},
   "outputs": [
    {
     "name": "stdout",
     "output_type": "stream",
     "text": [
      "part1: 929810733\n"
     ]
    }
   ],
   "source": [
    "instructions = {}\n",
    "for line in lines:\n",
    "    instruction = line.strip().split(' -> ')\n",
    "    if instruction[0] == \"broadcaster\":\n",
    "        instructions[instruction[0]] = {\"type\": \"broadcaster\", \"value\": instruction[1].split(\", \")}\n",
    "    elif instruction[0][0] == \"%\":\n",
    "        instructions[instruction[0][1:]] = {\"type\": instruction[0][0], \"value\": instruction[1].split(\", \"), \"state\": \"off\"}#flipflop\n",
    "    elif instruction[0][0] == \"&\":\n",
    "        instructions[instruction[0][1:]] = {\"type\": instruction[0][0], \"value\": instruction[1].split(\", \"), \"last\": {}}#Conjunction\n",
    "\n",
    "for key in instructions:\n",
    "    if instructions[key][\"type\"] == \"&\":\n",
    "        for i in list(dict(filter(lambda x: key in x[1][\"value\"], instructions.items())).keys()):\n",
    "            instructions[key][\"last\"][i] = \"low\"\n",
    "\n",
    "def process_button(current_command, source, signal, future_commands):\n",
    "    running = True\n",
    "    counters = (0,0)\n",
    "    while running:\n",
    "        #print(f\"{source} -> {signal} -> {current_command}]\")\n",
    "        change = (0,1) if signal == \"low\" else (1,0)\n",
    "        counters = tuple(map(sum, zip(counters, change)))\n",
    "\n",
    "        if current_command in instructions:\n",
    "            #print(\"out\")\n",
    "            if instructions[current_command][\"type\"] == \"broadcaster\":\n",
    "                for i in instructions[current_command][\"value\"]:\n",
    "                    future_commands.append((i, current_command, signal))\n",
    "\n",
    "            elif instructions[current_command][\"type\"] == \"&\":#Conjunction\n",
    "                instructions[current_command][\"last\"][source] = signal\n",
    "                if all(list(map(lambda x: x == \"high\", instructions[current_command][\"last\"].values()))):\n",
    "                    for i in instructions[current_command][\"value\"]:\n",
    "                        future_commands.append((i, current_command, \"low\"))\n",
    "                else:\n",
    "                    for i in instructions[current_command][\"value\"]:\n",
    "                        future_commands.append((i, current_command, \"high\"))\n",
    "\n",
    "            elif instructions[current_command][\"type\"] == \"%\": #flipflop\n",
    "                if signal == \"low\":\n",
    "                    if instructions[current_command][\"state\"] == \"off\":\n",
    "                        instructions[current_command][\"state\"] = \"on\"\n",
    "                        for i in instructions[current_command][\"value\"]:\n",
    "                            future_commands.append((i, current_command, \"high\"))\n",
    "                    else:\n",
    "                        instructions[current_command][\"state\"] = \"off\"\n",
    "                        for i in instructions[current_command][\"value\"]:\n",
    "                            future_commands.append((i, current_command, \"low\"))\n",
    "        #print(future_commands)\n",
    "        if len(future_commands) > 0:\n",
    "            next_command = future_commands.pop(0)\n",
    "            current_command = next_command[0]\n",
    "            source = next_command[1]\n",
    "            signal = next_command[2]\n",
    "        else:\n",
    "            running = False\n",
    "\n",
    "    return counters\n",
    "\n",
    "counters = (0, 0)\n",
    "for i in range(1000):\n",
    "    counters = tuple(map(sum, zip(counters, process_button(\"broadcaster\", \"button\", \"low\", []))))\n",
    "print(f\"part1: {counters[0]*counters[1]}\")\n"
   ]
  },
  {
   "cell_type": "code",
   "execution_count": 4,
   "metadata": {},
   "outputs": [
    {
     "data": {
      "text/plain": [
       "'round-table.gv.pdf'"
      ]
     },
     "execution_count": 4,
     "metadata": {},
     "output_type": "execute_result"
    }
   ],
   "source": [
    "dot = graphviz.Digraph(comment='The Machine')\n",
    "for key in instructions:\n",
    "    dot.node(key, key)\n",
    "for key in instructions:\n",
    "    for i in instructions[key][\"value\"]:\n",
    "        dot.edge(key, i)\n",
    "\n",
    "dot.render('round-table.gv', view=True)"
   ]
  },
  {
   "cell_type": "code",
   "execution_count": 5,
   "metadata": {},
   "outputs": [
    {
     "name": "stdout",
     "output_type": "stream",
     "text": [
      "Part 2: 231657829136023\n"
     ]
    }
   ],
   "source": [
    "def process_button(current_command, source, signal, future_commands):\n",
    "    running = True\n",
    "    counters = (0,0)\n",
    "    while running:\n",
    "        #print(f\"{source} -> {signal} -> {current_command}]\")\n",
    "        change = (0,1) if signal == \"low\" else (1,0)\n",
    "        counters = tuple(map(sum, zip(counters, change)))\n",
    "\n",
    "        if current_command == \"lg\" and signal == \"high\":\n",
    "            return True\n",
    "\n",
    "        if current_command in instructions:\n",
    "            #print(\"out\")\n",
    "            if instructions[current_command][\"type\"] == \"broadcaster\":\n",
    "                for i in instructions[current_command][\"value\"]:\n",
    "                    future_commands.append((i, current_command, signal))\n",
    "\n",
    "            elif instructions[current_command][\"type\"] == \"&\":#Conjunction\n",
    "                instructions[current_command][\"last\"][source] = signal\n",
    "                if all(list(map(lambda x: x == \"high\", instructions[current_command][\"last\"].values()))):\n",
    "                    for i in instructions[current_command][\"value\"]:\n",
    "                        future_commands.append((i, current_command, \"low\"))\n",
    "                else:\n",
    "                    for i in instructions[current_command][\"value\"]:\n",
    "                        future_commands.append((i, current_command, \"high\"))\n",
    "\n",
    "            elif instructions[current_command][\"type\"] == \"%\": #flipflop\n",
    "                if signal == \"low\":\n",
    "                    if instructions[current_command][\"state\"] == \"off\":\n",
    "                        instructions[current_command][\"state\"] = \"on\"\n",
    "                        for i in instructions[current_command][\"value\"]:\n",
    "                            future_commands.append((i, current_command, \"high\"))\n",
    "                    else:\n",
    "                        instructions[current_command][\"state\"] = \"off\"\n",
    "                        for i in instructions[current_command][\"value\"]:\n",
    "                            future_commands.append((i, current_command, \"low\"))\n",
    "        #print(future_commands)\n",
    "        if len(future_commands) > 0:\n",
    "            next_command = future_commands.pop(0)\n",
    "            current_command = next_command[0]\n",
    "            source = next_command[1]\n",
    "            signal = next_command[2]\n",
    "        else:\n",
    "            running = False\n",
    "\n",
    "    return False\n",
    "\n",
    "instructions = {}\n",
    "for line in lines:\n",
    "    instruction = line.strip().split(' -> ')\n",
    "    if instruction[0] == \"broadcaster\":\n",
    "        instructions[instruction[0]] = {\"type\": \"broadcaster\", \"value\": instruction[1].split(\", \")}\n",
    "    elif instruction[0][0] == \"%\":\n",
    "        instructions[instruction[0][1:]] = {\"type\": instruction[0][0], \"value\": instruction[1].split(\", \"), \"state\": \"off\"}#flipflop\n",
    "    elif instruction[0][0] == \"&\":\n",
    "        instructions[instruction[0][1:]] = {\"type\": instruction[0][0], \"value\": instruction[1].split(\", \"), \"last\": {}}#Conjunction\n",
    "\n",
    "for key in instructions:\n",
    "    if instructions[key][\"type\"] == \"&\":\n",
    "        for i in list(dict(filter(lambda x: key in x[1][\"value\"], instructions.items())).keys()):\n",
    "            instructions[key][\"last\"][i] = \"low\"\n",
    "\n",
    "counters = []\n",
    "for i in instructions[\"broadcaster\"][\"value\"]:\n",
    "    cnt = 0\n",
    "    found = False\n",
    "    while not found:\n",
    "        found = process_button(i, \"broadcaster\", \"low\", [])\n",
    "        cnt += 1\n",
    "    counters.append(cnt)\n",
    "print(f\"Part 2: {reduce(lambda x, y: lcm(x, y), counters)}\")\n"
   ]
  }
 ],
 "metadata": {
  "kernelspec": {
   "display_name": "Python 3",
   "language": "python",
   "name": "python3"
  },
  "language_info": {
   "codemirror_mode": {
    "name": "ipython",
    "version": 3
   },
   "file_extension": ".py",
   "mimetype": "text/x-python",
   "name": "python",
   "nbconvert_exporter": "python",
   "pygments_lexer": "ipython3",
   "version": "3.11.5"
  }
 },
 "nbformat": 4,
 "nbformat_minor": 2
}
