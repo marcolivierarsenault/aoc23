{
 "cells": [
  {
   "cell_type": "code",
   "execution_count": 1,
   "metadata": {},
   "outputs": [],
   "source": [
    "from dijkstar import Graph, find_path\n",
    "import numpy as np"
   ]
  },
  {
   "cell_type": "code",
   "execution_count": 2,
   "metadata": {},
   "outputs": [],
   "source": [
    "file1 = open('input.txt', 'r')\n",
    "lines = file1.readlines()"
   ]
  },
  {
   "cell_type": "code",
   "execution_count": 3,
   "metadata": {},
   "outputs": [],
   "source": [
    "input = np.array([list(line.strip()) for line in lines], dtype=str)"
   ]
  },
  {
   "cell_type": "code",
   "execution_count": 4,
   "metadata": {},
   "outputs": [
    {
     "name": "stdout",
     "output_type": "stream",
     "text": [
      "part 1: 724\n",
      "part 2: 877\n"
     ]
    }
   ],
   "source": [
    "\n",
    "def create_vertices(graph, start, distance, direction):\n",
    "    sign = 1 if distance > 0 else -1\n",
    "    if (direction == \"V\" and (start[0]+distance < 0 or start[0]+distance >= input.shape[0])) or (direction == \"H\" and (start[1]+distance < 0 or start[1]+distance >= input.shape[1])):\n",
    "        return\n",
    "    if direction == 'V':\n",
    "        cost = sum([int(input[start[0]+(i*sign), start[1]]) for i in range(1, abs(distance) + 1)])\n",
    "        graph.add_edge(f\"H{start[0]},{start[1]}\", f\"V{start[0]+distance},{start[1]}\", cost)\n",
    "    elif direction == 'H':\n",
    "        cost = sum([int(input[start[0], start[1]+(i*sign)]) for i in range(1, abs(distance) + 1)])\n",
    "        graph.add_edge(f\"V{start[0]},{start[1]}\", f\"H{start[0]},{start[1]+distance}\", cost)\n",
    "\n",
    "graph = Graph()\n",
    "for x in range(input.shape[0]):\n",
    "    for y in range(input.shape[1]):\n",
    "        for distance in range(1, 4):\n",
    "            create_vertices(graph, (x, y), distance, 'V')\n",
    "            create_vertices(graph, (x, y), distance, 'H')\n",
    "            create_vertices(graph, (x, y), -1 * distance, 'V')\n",
    "            create_vertices(graph, (x, y), -1 * distance, 'H')\n",
    "\n",
    "possibility = [find_path(graph, \"V0,0\", f\"H{input.shape[0]-1},{input.shape[1]-1}\").total_cost,\n",
    "            find_path(graph, \"V0,0\", f\"V{input.shape[0]-1},{input.shape[1]-1}\").total_cost,\n",
    "            find_path(graph, \"H0,0\", f\"H{input.shape[0]-1},{input.shape[1]-1}\").total_cost,\n",
    "            find_path(graph, \"H0,0\", f\"V{input.shape[0]-1},{input.shape[1]-1}\").total_cost]\n",
    "\n",
    "print(f\"part 1: {min(possibility)}\")\n",
    "\n",
    "graph2 = Graph()\n",
    "for x in range(input.shape[0]):\n",
    "    for y in range(input.shape[1]):\n",
    "        for distance in range(4, 11):\n",
    "            create_vertices(graph2, (x, y), distance, 'V')\n",
    "            create_vertices(graph2, (x, y), distance, 'H')\n",
    "            create_vertices(graph2, (x, y), -1 * distance, 'V')\n",
    "            create_vertices(graph2, (x, y), -1 * distance, 'H')\n",
    "\n",
    "possibility2 = [find_path(graph2, \"V0,0\", f\"H{input.shape[0]-1},{input.shape[1]-1}\").total_cost,\n",
    "            find_path(graph2, \"V0,0\", f\"V{input.shape[0]-1},{input.shape[1]-1}\").total_cost,\n",
    "            find_path(graph2, \"H0,0\", f\"H{input.shape[0]-1},{input.shape[1]-1}\").total_cost,\n",
    "            find_path(graph2, \"H0,0\", f\"V{input.shape[0]-1},{input.shape[1]-1}\").total_cost]\n",
    "\n",
    "print(f\"part 2: {min(possibility2)}\")"
   ]
  }
 ],
 "metadata": {
  "kernelspec": {
   "display_name": "Python 3",
   "language": "python",
   "name": "python3"
  },
  "language_info": {
   "codemirror_mode": {
    "name": "ipython",
    "version": 3
   },
   "file_extension": ".py",
   "mimetype": "text/x-python",
   "name": "python",
   "nbconvert_exporter": "python",
   "pygments_lexer": "ipython3",
   "version": "3.12.0"
  }
 },
 "nbformat": 4,
 "nbformat_minor": 2
}
