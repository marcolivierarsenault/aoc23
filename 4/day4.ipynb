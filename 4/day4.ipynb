{
 "cells": [
  {
   "cell_type": "code",
   "execution_count": 1,
   "metadata": {},
   "outputs": [],
   "source": [
    "file1 = open('input.txt', 'r')\n",
    "lines = file1.readlines()\n"
   ]
  },
  {
   "cell_type": "code",
   "execution_count": 2,
   "metadata": {},
   "outputs": [],
   "source": [
    "def get_score(value: int) -> int:\n",
    "    if value == 0:\n",
    "        return 0\n",
    "    return pow(2, value-1)\n"
   ]
  },
  {
   "cell_type": "code",
   "execution_count": 3,
   "metadata": {},
   "outputs": [],
   "source": [
    "game_results = {}\n",
    "\n",
    "\n",
    "for line in lines:\n",
    "    game,results = line.split(\": \")\n",
    "    game = int(game.split()[1])\n",
    "    winning,my_numbers = results.replace(\"\\n\",\"\").split(\" | \")\n",
    "\n",
    "    winning = winning.split()\n",
    "    my_numbers = my_numbers.split()\n",
    "\n",
    "    winning_numbers = set(winning).intersection(my_numbers)\n",
    "\n",
    "    game_results[game] = {\n",
    "          \"game\": game,\n",
    "          \"winning\": winning,\n",
    "          \"my_numbers\": my_numbers,\n",
    "          \"winning_numbers\": winning_numbers,\n",
    "          \"number_of_winning_numbers\": len(winning_numbers),\n",
    "          \"scores\": get_score(len(winning_numbers)),\n",
    "          \"nb_card\": 1\n",
    "          }\n"
   ]
  },
  {
   "cell_type": "code",
   "execution_count": 4,
   "metadata": {},
   "outputs": [
    {
     "name": "stdout",
     "output_type": "stream",
     "text": [
      "total score: 23441\n"
     ]
    }
   ],
   "source": [
    "total_score = 0\n",
    "for game in game_results.values():\n",
    "    total_score += game[\"scores\"]\n",
    "\n",
    "print(f\"total score: {total_score}\")\n"
   ]
  },
  {
   "cell_type": "code",
   "execution_count": 5,
   "metadata": {},
   "outputs": [],
   "source": [
    "for i in range(len(lines)):\n",
    "    current_card = i+1\n",
    "    for win in range(game_results[current_card][\"number_of_winning_numbers\"]):\n",
    "      game_results[current_card + win + 1][\"nb_card\"] += game_results[current_card][\"nb_card\"]\n"
   ]
  },
  {
   "cell_type": "code",
   "execution_count": 6,
   "metadata": {},
   "outputs": [
    {
     "name": "stdout",
     "output_type": "stream",
     "text": [
      "total number of card: 5923918\n"
     ]
    }
   ],
   "source": [
    "nb_card = 0\n",
    "for game in game_results.values():\n",
    "    nb_card += game[\"nb_card\"]\n",
    "\n",
    "print(f\"total number of card: {nb_card}\")\n"
   ]
  }
 ],
 "metadata": {
  "kernelspec": {
   "display_name": "Python 3",
   "language": "python",
   "name": "python3"
  },
  "language_info": {
   "codemirror_mode": {
    "name": "ipython",
    "version": 3
   },
   "file_extension": ".py",
   "mimetype": "text/x-python",
   "name": "python",
   "nbconvert_exporter": "python",
   "pygments_lexer": "ipython3",
   "version": "3.12.0"
  }
 },
 "nbformat": 4,
 "nbformat_minor": 2
}
