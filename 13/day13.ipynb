{
 "cells": [
  {
   "cell_type": "code",
   "execution_count": 1,
   "metadata": {},
   "outputs": [],
   "source": [
    "file1 = open('input.txt', 'r')\n",
    "lines = file1.readlines()"
   ]
  },
  {
   "cell_type": "code",
   "execution_count": 2,
   "metadata": {},
   "outputs": [],
   "source": [
    "from itertools import combinations\n",
    "import copy"
   ]
  },
  {
   "cell_type": "code",
   "execution_count": 3,
   "metadata": {},
   "outputs": [
    {
     "name": "stdout",
     "output_type": "stream",
     "text": [
      "part1: 36448\n"
     ]
    }
   ],
   "source": [
    "def process_dict(matches, block, old_match):\n",
    "    for line in matches:\n",
    "        if len(matches[line]) > 1:\n",
    "            all_pairs = list(combinations(matches[line], 2))\n",
    "            for pair in all_pairs:\n",
    "                if int(pair[0]) == int(pair[1])-1:\n",
    "                    found = False\n",
    "                    current_low = pair[0]-1\n",
    "                    current_high = pair[1]+1\n",
    "                    if pair[1] == old_match:\n",
    "                        continue\n",
    "                    while not found:\n",
    "                        if current_low == -1:\n",
    "                            found = True\n",
    "                            break\n",
    "                        if current_high == len(block):\n",
    "                            found = True\n",
    "                            break\n",
    "                        if block[current_low] != block[current_high]:\n",
    "                            break\n",
    "                        current_low -= 1\n",
    "                        current_high += 1\n",
    "                    if found:\n",
    "                        return pair[1]\n",
    "    return None\n",
    "\n",
    "\n",
    "def process_block(block, old_match = -1):\n",
    "\n",
    "    #try horizontal\n",
    "    matches = {}\n",
    "    for cnt, line in enumerate(block):\n",
    "        matches.setdefault(line, []).append(cnt)\n",
    "\n",
    "    horizontal = process_dict(matches, block, old_match/100)\n",
    "\n",
    "    if horizontal:\n",
    "        return horizontal*100\n",
    "\n",
    "    #try vertical\n",
    "    ver_block = []\n",
    "    for i in range(len(block[0])):\n",
    "        ver_block.append(''.join([block[j][i] for j in range(len(block))]))\n",
    "\n",
    "    matches = {}\n",
    "    for cnt, line in enumerate(ver_block):\n",
    "        matches.setdefault(line, []).append(cnt)\n",
    "\n",
    "    vertical = process_dict(matches, ver_block, old_match)\n",
    "\n",
    "    if vertical:\n",
    "        return vertical\n",
    "\n",
    "current_block = []\n",
    "p1_value = 0\n",
    "\n",
    "\n",
    "for line in lines:\n",
    "    line = line.strip()\n",
    "    if not line:\n",
    "        p1_value += process_block(current_block)\n",
    "        current_block = []\n",
    "        continue\n",
    "    current_block.append(line)\n",
    "p1_value += process_block(current_block)\n",
    "\n",
    "print(f\"part1: {p1_value}\")\n",
    "\n",
    "\n"
   ]
  },
  {
   "cell_type": "code",
   "execution_count": 4,
   "metadata": {},
   "outputs": [
    {
     "name": "stdout",
     "output_type": "stream",
     "text": [
      "part2: 35799\n"
     ]
    }
   ],
   "source": [
    "def brute_force(current_block):\n",
    "    original_value = process_block(current_block)\n",
    "    for i in range(len(current_block)):\n",
    "        for j in range(len(current_block[0])):\n",
    "            tmp_block = copy.deepcopy(current_block)\n",
    "            if tmp_block[i][j] == '.':\n",
    "                tmp_block[i] = tmp_block[i][:j] + '#' + tmp_block[i][j + 1:]\n",
    "            else:\n",
    "                tmp_block[i] = tmp_block[i][:j] + '.' + tmp_block[i][j + 1:]\n",
    "            block_value = process_block(tmp_block, original_value)\n",
    "\n",
    "            if block_value and block_value != original_value:\n",
    "                return block_value\n",
    "    return None\n",
    "\n",
    "current_block = []\n",
    "p2_value = 0\n",
    "for line in lines:\n",
    "    line = line.strip()\n",
    "    if not line:\n",
    "        p2_value += brute_force(current_block)\n",
    "        current_block = []\n",
    "        continue\n",
    "    current_block.append(line)\n",
    "p2_value += brute_force(current_block)\n",
    "\n",
    "print(f\"part2: {p2_value}\")"
   ]
  }
 ],
 "metadata": {
  "kernelspec": {
   "display_name": "Python 3",
   "language": "python",
   "name": "python3"
  },
  "language_info": {
   "codemirror_mode": {
    "name": "ipython",
    "version": 3
   },
   "file_extension": ".py",
   "mimetype": "text/x-python",
   "name": "python",
   "nbconvert_exporter": "python",
   "pygments_lexer": "ipython3",
   "version": "3.12.0"
  }
 },
 "nbformat": 4,
 "nbformat_minor": 2
}
