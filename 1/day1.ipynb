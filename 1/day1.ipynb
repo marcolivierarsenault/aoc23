{
 "cells": [
  {
   "cell_type": "code",
   "execution_count": 1,
   "metadata": {},
   "outputs": [],
   "source": [
    "import regex as re\n"
   ]
  },
  {
   "cell_type": "code",
   "execution_count": 2,
   "metadata": {},
   "outputs": [],
   "source": [
    "file1 = open('input.txt', 'r')\n",
    "lines = file1.readlines()\n"
   ]
  },
  {
   "cell_type": "code",
   "execution_count": 3,
   "metadata": {},
   "outputs": [
    {
     "name": "stdout",
     "output_type": "stream",
     "text": [
      "Part 1: 55090\n"
     ]
    }
   ],
   "source": [
    "# part 1\n",
    "\n",
    "numbers_in_lines = []\n",
    "sum = 0\n",
    "for line in lines:\n",
    "    current_line = re.findall(r'\\d',line)\n",
    "    numbers_in_lines.append(line)\n",
    "    current_total = int(current_line[0])*10 + int(current_line[len(current_line)-1])\n",
    "    sum += current_total\n",
    "\n",
    "print(f\"Part 1: {sum}\")\n"
   ]
  },
  {
   "cell_type": "code",
   "execution_count": 4,
   "metadata": {},
   "outputs": [],
   "source": [
    "def map_numbers(number:str) -> str:\n",
    "    if number == \"one\":\n",
    "        return \"1\"\n",
    "    if number == \"two\":\n",
    "        return \"2\"\n",
    "    if number == \"three\":\n",
    "        return \"3\"\n",
    "    if number == \"four\":\n",
    "        return \"4\"\n",
    "    if number == \"five\":\n",
    "        return \"5\"\n",
    "    if number == \"six\":\n",
    "        return \"6\"\n",
    "    if number == \"seven\":\n",
    "        return \"7\"\n",
    "    if number == \"eight\":\n",
    "        return \"8\"\n",
    "    if number == \"nine\":\n",
    "        return \"9\"\n",
    "    return number\n"
   ]
  },
  {
   "cell_type": "code",
   "execution_count": 5,
   "metadata": {},
   "outputs": [
    {
     "name": "stdout",
     "output_type": "stream",
     "text": [
      "Part 2: 54845\n"
     ]
    }
   ],
   "source": [
    "# part 2\n",
    "\n",
    "numbers_in_lines = []\n",
    "sum = 0\n",
    "for line in lines:\n",
    "    raw_line = re.findall(r'\\d|zero|one|two|three|four|five|six|seven|eight|nine', line, overlapped=True)\n",
    "    current_line = list(map(map_numbers, raw_line))\n",
    "    numbers_in_lines.append(line)\n",
    "    current_total = int(current_line[0])*10 + int(current_line[len(current_line)-1])\n",
    "    sum += current_total\n",
    "\n",
    "print(f\"Part 2: {sum}\")\n"
   ]
  }
 ],
 "metadata": {
  "kernelspec": {
   "display_name": "Python 3",
   "language": "python",
   "name": "python3"
  },
  "language_info": {
   "codemirror_mode": {
    "name": "ipython",
    "version": 3
   },
   "file_extension": ".py",
   "mimetype": "text/x-python",
   "name": "python",
   "nbconvert_exporter": "python",
   "pygments_lexer": "ipython3",
   "version": "3.12.0"
  }
 },
 "nbformat": 4,
 "nbformat_minor": 2
}
