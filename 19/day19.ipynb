{
 "cells": [
  {
   "cell_type": "code",
   "execution_count": 2,
   "metadata": {},
   "outputs": [],
   "source": [
    "import shapely\n",
    "from shapely import Point\n",
    "import numpy as np\n",
    "import regex as re"
   ]
  },
  {
   "cell_type": "code",
   "execution_count": 1,
   "metadata": {},
   "outputs": [],
   "source": [
    "file1 = open('input.txt', 'r')\n",
    "lines = file1.readlines()"
   ]
  },
  {
   "cell_type": "code",
   "execution_count": 30,
   "metadata": {},
   "outputs": [
    {
     "name": "stdout",
     "output_type": "stream",
     "text": [
      "a<2006:qkq\n",
      "x<1416:A\n",
      "crn\n"
     ]
    },
    {
     "ename": "AttributeError",
     "evalue": "'NoneType' object has no attribute 'groups'",
     "output_type": "error",
     "traceback": [
      "\u001b[0;31m---------------------------------------------------------------------------\u001b[0m",
      "\u001b[0;31mAttributeError\u001b[0m                            Traceback (most recent call last)",
      "Cell \u001b[0;32mIn[30], line 62\u001b[0m\n\u001b[1;32m     60\u001b[0m \u001b[38;5;28;01mif\u001b[39;00m line \u001b[38;5;241m==\u001b[39m \u001b[38;5;124m'\u001b[39m\u001b[38;5;130;01m\\n\u001b[39;00m\u001b[38;5;124m'\u001b[39m:\n\u001b[1;32m     61\u001b[0m     current_ranges \u001b[38;5;241m=\u001b[39m {\u001b[38;5;124m\"\u001b[39m\u001b[38;5;124mx\u001b[39m\u001b[38;5;124m\"\u001b[39m: [\u001b[38;5;241m0\u001b[39m, \u001b[38;5;241m9999\u001b[39m], \u001b[38;5;124m\"\u001b[39m\u001b[38;5;124mm\u001b[39m\u001b[38;5;124m\"\u001b[39m: [\u001b[38;5;241m0\u001b[39m, \u001b[38;5;241m9999\u001b[39m], \u001b[38;5;124m\"\u001b[39m\u001b[38;5;124ma\u001b[39m\u001b[38;5;124m\"\u001b[39m: [\u001b[38;5;241m0\u001b[39m, \u001b[38;5;241m9999\u001b[39m], \u001b[38;5;124m\"\u001b[39m\u001b[38;5;124ms\u001b[39m\u001b[38;5;124m\"\u001b[39m: [\u001b[38;5;241m0\u001b[39m, \u001b[38;5;241m9999\u001b[39m]}\n\u001b[0;32m---> 62\u001b[0m     \u001b[43mrange_finder\u001b[49m\u001b[43m(\u001b[49m\u001b[43mrules\u001b[49m\u001b[43m[\u001b[49m\u001b[38;5;28;43mlist\u001b[39;49m\u001b[43m(\u001b[49m\u001b[43mrules\u001b[49m\u001b[38;5;241;43m.\u001b[39;49m\u001b[43mkeys\u001b[49m\u001b[43m(\u001b[49m\u001b[43m)\u001b[49m\u001b[43m)\u001b[49m\u001b[43m[\u001b[49m\u001b[38;5;241;43m2\u001b[39;49m\u001b[43m]\u001b[49m\u001b[43m]\u001b[49m\u001b[43m,\u001b[49m\u001b[43m \u001b[49m\u001b[38;5;241;43m0\u001b[39;49m\u001b[43m,\u001b[49m\u001b[43m \u001b[49m\u001b[43mcurrent_ranges\u001b[49m\u001b[43m)\u001b[49m\n\u001b[1;32m     63\u001b[0m parsed_string \u001b[38;5;241m=\u001b[39m re\u001b[38;5;241m.\u001b[39mmatch(\u001b[38;5;124mr\u001b[39m\u001b[38;5;124m'\u001b[39m\u001b[38;5;124m(\u001b[39m\u001b[38;5;124m\\\u001b[39m\u001b[38;5;124mw+)\u001b[39m\u001b[38;5;124m\\\u001b[39m\u001b[38;5;124m{\u001b[39m\u001b[38;5;124m(.*)\u001b[39m\u001b[38;5;124m\\\u001b[39m\u001b[38;5;124m}\u001b[39m\u001b[38;5;124m'\u001b[39m, line)\n\u001b[1;32m     64\u001b[0m \u001b[38;5;28;01mif\u001b[39;00m parsed_string:\n",
      "Cell \u001b[0;32mIn[30], line 43\u001b[0m, in \u001b[0;36mrange_finder\u001b[0;34m(current_rule, id, current_ranges)\u001b[0m\n\u001b[1;32m     41\u001b[0m         bottom_range[letter][\u001b[38;5;241m1\u001b[39m] \u001b[38;5;241m=\u001b[39m number \u001b[38;5;241m-\u001b[39m\u001b[38;5;241m1\u001b[39m\n\u001b[1;32m     42\u001b[0m         top_range[letter][\u001b[38;5;241m0\u001b[39m] \u001b[38;5;241m=\u001b[39m number\n\u001b[0;32m---> 43\u001b[0m         \u001b[43mrange_finder\u001b[49m\u001b[43m(\u001b[49m\u001b[43mrules\u001b[49m\u001b[43m[\u001b[49m\u001b[43mnext_rule\u001b[49m\u001b[43m]\u001b[49m\u001b[43m,\u001b[49m\u001b[43m \u001b[49m\u001b[38;5;241;43m0\u001b[39;49m\u001b[43m,\u001b[49m\u001b[43m \u001b[49m\u001b[43mbottom_range\u001b[49m\u001b[43m)\u001b[49m\n\u001b[1;32m     44\u001b[0m         range_finder(current_rule, \u001b[38;5;28mid\u001b[39m\u001b[38;5;241m+\u001b[39m\u001b[38;5;241m1\u001b[39m, top_range)\n\u001b[1;32m     45\u001b[0m \u001b[38;5;28;01melif\u001b[39;00m sign \u001b[38;5;241m==\u001b[39m \u001b[38;5;124m'\u001b[39m\u001b[38;5;124m>\u001b[39m\u001b[38;5;124m'\u001b[39m:\n",
      "Cell \u001b[0;32mIn[30], line 44\u001b[0m, in \u001b[0;36mrange_finder\u001b[0;34m(current_rule, id, current_ranges)\u001b[0m\n\u001b[1;32m     42\u001b[0m         top_range[letter][\u001b[38;5;241m0\u001b[39m] \u001b[38;5;241m=\u001b[39m number\n\u001b[1;32m     43\u001b[0m         range_finder(rules[next_rule], \u001b[38;5;241m0\u001b[39m, bottom_range)\n\u001b[0;32m---> 44\u001b[0m         \u001b[43mrange_finder\u001b[49m\u001b[43m(\u001b[49m\u001b[43mcurrent_rule\u001b[49m\u001b[43m,\u001b[49m\u001b[43m \u001b[49m\u001b[38;5;28;43mid\u001b[39;49m\u001b[38;5;241;43m+\u001b[39;49m\u001b[38;5;241;43m1\u001b[39;49m\u001b[43m,\u001b[49m\u001b[43m \u001b[49m\u001b[43mtop_range\u001b[49m\u001b[43m)\u001b[49m\n\u001b[1;32m     45\u001b[0m \u001b[38;5;28;01melif\u001b[39;00m sign \u001b[38;5;241m==\u001b[39m \u001b[38;5;124m'\u001b[39m\u001b[38;5;124m>\u001b[39m\u001b[38;5;124m'\u001b[39m:\n\u001b[1;32m     46\u001b[0m     \u001b[38;5;28;01mif\u001b[39;00m current_ranges[letter][\u001b[38;5;241m0\u001b[39m] \u001b[38;5;241m>\u001b[39m number:\n",
      "Cell \u001b[0;32mIn[30], line 28\u001b[0m, in \u001b[0;36mrange_finder\u001b[0;34m(current_rule, id, current_ranges)\u001b[0m\n\u001b[1;32m     26\u001b[0m     \u001b[38;5;28;01mreturn\u001b[39;00m \u001b[38;5;28;01mNone\u001b[39;00m\n\u001b[1;32m     27\u001b[0m \u001b[38;5;28mprint\u001b[39m(current_rule[\u001b[38;5;28mid\u001b[39m])\n\u001b[0;32m---> 28\u001b[0m quoted_string \u001b[38;5;241m=\u001b[39m \u001b[43mre\u001b[49m\u001b[38;5;241;43m.\u001b[39;49m\u001b[43mmatch\u001b[49m\u001b[43m(\u001b[49m\u001b[38;5;124;43mr\u001b[39;49m\u001b[38;5;124;43m'\u001b[39;49m\u001b[38;5;124;43m([a|s|x|m])([<|>])(\u001b[39;49m\u001b[38;5;124;43m\\\u001b[39;49m\u001b[38;5;124;43md+):(\u001b[39;49m\u001b[38;5;124;43m\\\u001b[39;49m\u001b[38;5;124;43mw+)\u001b[39;49m\u001b[38;5;124;43m'\u001b[39;49m\u001b[43m,\u001b[49m\u001b[43m \u001b[49m\u001b[43mcurrent_rule\u001b[49m\u001b[43m[\u001b[49m\u001b[38;5;28;43mid\u001b[39;49m\u001b[43m]\u001b[49m\u001b[43m)\u001b[49m\u001b[38;5;241;43m.\u001b[39;49m\u001b[43mgroups\u001b[49m()\n\u001b[1;32m     29\u001b[0m letter \u001b[38;5;241m=\u001b[39m quoted_string[\u001b[38;5;241m0\u001b[39m]\n\u001b[1;32m     30\u001b[0m sign \u001b[38;5;241m=\u001b[39m quoted_string[\u001b[38;5;241m1\u001b[39m]\n",
      "\u001b[0;31mAttributeError\u001b[0m: 'NoneType' object has no attribute 'groups'"
     ]
    }
   ],
   "source": [
    "rules = {'A': [\"A\"], 'R': [\"R\"]}\n",
    "ranges = []\n",
    "\n",
    "class Rule:\n",
    "    def __init__(self, x_range, m_range, a_range, s_range, outcome):\n",
    "        self.x_range = x_range\n",
    "        self.m_range = m_range\n",
    "        self.a_range = a_range\n",
    "        self.s_range = s_range\n",
    "        self.outcome = outcome\n",
    "\n",
    "    def get_outcome(self, x, m, a, s):\n",
    "        if (x >= self.x_range[0] and x <= self.x_range[1]\n",
    "            and m >= self.m_range[0] and m <= self.m_range[1]\n",
    "            and a >= self.a_range[0] and a <= self.a_range[1]\n",
    "            and s >= self.s_range[0] and s <= self.s_range[1]):\n",
    "                return self.outcome\n",
    "        return None\n",
    "\n",
    "def range_finder(current_rule, id, current_ranges):\n",
    "    if current_rule[id] == 'R':\n",
    "        ranges.append(Rule(current_ranges[\"x\"], current_ranges[\"m\"], current_ranges[\"a\"], current_ranges[\"s\"], \"R\"))\n",
    "        return None\n",
    "    if current_rule[id] == 'A':\n",
    "        ranges.append(Rule(current_ranges[\"x\"], current_ranges[\"m\"], current_ranges[\"a\"], current_ranges[\"s\"], \"A\"))\n",
    "        return None\n",
    "    print(current_rule[id])\n",
    "    quoted_string = re.match(r'([a|s|x|m])([<|>])(\\d+):(\\w+)', current_rule[id]).groups()\n",
    "    letter = quoted_string[0]\n",
    "    sign = quoted_string[1]\n",
    "    number = int(quoted_string[2])\n",
    "    next_rule = quoted_string[3]\n",
    "    if sign == '<':\n",
    "        if current_ranges[letter][1] < number:\n",
    "            range_finder(rules[next_rule], 0, current_ranges)\n",
    "        elif current_ranges[letter][0] > number:\n",
    "            range_finder(current_rule, id+1, current_ranges)\n",
    "        else:\n",
    "            bottom_range = current_ranges.copy()\n",
    "            top_range = current_ranges.copy()\n",
    "            bottom_range[letter][1] = number -1\n",
    "            top_range[letter][0] = number\n",
    "            range_finder(rules[next_rule], 0, bottom_range)\n",
    "            range_finder(current_rule, id+1, top_range)\n",
    "    elif sign == '>':\n",
    "        if current_ranges[letter][0] > number:\n",
    "            range_finder(rules[next_rule], 0, current_ranges)\n",
    "        elif current_ranges[letter][1] < number:\n",
    "            range_finder(current_rule, id+1, current_ranges)\n",
    "        else:\n",
    "            bottom_range = current_ranges.copy()\n",
    "            top_range = current_ranges.copy()\n",
    "            bottom_range[letter][1] = number\n",
    "            top_range[letter][0] = number + 1\n",
    "            range_finder(rules[next_rule], 0, top_range)\n",
    "            range_finder(current_rule, id+1, bottom_range)\n",
    "    print(\"Error\")\n",
    "\n",
    "for line in lines:\n",
    "    if line == '\\n':\n",
    "        current_ranges = {\"x\": [0, 9999], \"m\": [0, 9999], \"a\": [0, 9999], \"s\": [0, 9999]}\n",
    "        range_finder(rules[list(rules.keys())[2]], 0, current_ranges)\n",
    "    parsed_string = re.match(r'(\\w+)\\{(.*)\\}', line)\n",
    "    if parsed_string:\n",
    "        rules[parsed_string.groups()[0]] = [i for i in parsed_string.groups()[1].split(',')]\n",
    "\n"
   ]
  },
  {
   "cell_type": "code",
   "execution_count": 10,
   "metadata": {},
   "outputs": [
    {
     "ename": "AttributeError",
     "evalue": "'NoneType' object has no attribute 'groups'",
     "output_type": "error",
     "traceback": [
      "\u001b[0;31m---------------------------------------------------------------------------\u001b[0m",
      "\u001b[0;31mAttributeError\u001b[0m                            Traceback (most recent call last)",
      "Cell \u001b[0;32mIn[10], line 1\u001b[0m\n\u001b[0;32m----> 1\u001b[0m \u001b[43mre\u001b[49m\u001b[38;5;241;43m.\u001b[39;49m\u001b[43mmatch\u001b[49m\u001b[43m(\u001b[49m\u001b[38;5;124;43mr\u001b[39;49m\u001b[38;5;124;43m'\u001b[39;49m\u001b[38;5;124;43m(\u001b[39;49m\u001b[38;5;124;43m\\\u001b[39;49m\u001b[38;5;124;43mw+)\u001b[39;49m\u001b[38;5;124;43m\\\u001b[39;49m\u001b[38;5;124;43m{\u001b[39;49m\u001b[38;5;124;43m(.*)\u001b[39;49m\u001b[38;5;124;43m\\\u001b[39;49m\u001b[38;5;124;43m}\u001b[39;49m\u001b[38;5;124;43m'\u001b[39;49m\u001b[43m,\u001b[49m\u001b[43m \u001b[49m\u001b[43mlines\u001b[49m\u001b[43m[\u001b[49m\u001b[38;5;241;43m11\u001b[39;49m\u001b[43m]\u001b[49m\u001b[43m)\u001b[49m\u001b[38;5;241;43m.\u001b[39;49m\u001b[43mgroups\u001b[49m()\n",
      "\u001b[0;31mAttributeError\u001b[0m: 'NoneType' object has no attribute 'groups'"
     ]
    }
   ],
   "source": [
    "re.match(r'(\\w+)\\{(.*)\\}', lines[11]).groups()"
   ]
  },
  {
   "cell_type": "code",
   "execution_count": 12,
   "metadata": {},
   "outputs": [
    {
     "data": {
      "text/plain": [
       "<regex.Match object; span=(0, 14), match='pv{a>1716:R,A}'>"
      ]
     },
     "execution_count": 12,
     "metadata": {},
     "output_type": "execute_result"
    }
   ],
   "source": [
    "re.match(r'(\\w+)\\{(.*)\\}', lines[1])"
   ]
  }
 ],
 "metadata": {
  "kernelspec": {
   "display_name": "Python 3",
   "language": "python",
   "name": "python3"
  },
  "language_info": {
   "codemirror_mode": {
    "name": "ipython",
    "version": 3
   },
   "file_extension": ".py",
   "mimetype": "text/x-python",
   "name": "python",
   "nbconvert_exporter": "python",
   "pygments_lexer": "ipython3",
   "version": "3.12.0"
  }
 },
 "nbformat": 4,
 "nbformat_minor": 2
}
