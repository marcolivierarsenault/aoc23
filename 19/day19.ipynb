{
 "cells": [
  {
   "cell_type": "code",
   "execution_count": 1,
   "metadata": {},
   "outputs": [],
   "source": [
    "import regex as re\n",
    "from copy import deepcopy\n"
   ]
  },
  {
   "cell_type": "code",
   "execution_count": 2,
   "metadata": {},
   "outputs": [],
   "source": [
    "file1 = open('input.txt', 'r')\n",
    "lines = file1.readlines()"
   ]
  },
  {
   "cell_type": "code",
   "execution_count": 3,
   "metadata": {},
   "outputs": [
    {
     "name": "stdout",
     "output_type": "stream",
     "text": [
      "part 1: 287054\n",
      "part 2: 131619440296497\n"
     ]
    }
   ],
   "source": [
    "rules = {'A': [\"A\"], 'R': [\"R\"]}\n",
    "ranges = []\n",
    "\n",
    "class Rule:\n",
    "    def __init__(self, x_range, m_range, a_range, s_range, outcome):\n",
    "        self.x_range = x_range\n",
    "        self.m_range = m_range\n",
    "        self.a_range = a_range\n",
    "        self.s_range = s_range\n",
    "        self.outcome = outcome\n",
    "\n",
    "    def count_possible_outcomes(self):\n",
    "        return (self.x_range[1] - self.x_range[0] + 1) * (self.m_range[1] - self.m_range[0] + 1) * (self.a_range[1] - self.a_range[0] + 1) * (self.s_range[1] - self.s_range[0] + 1)\n",
    "\n",
    "    def get_outcome(self, x, m, a, s):\n",
    "        if (x >= self.x_range[0] and x <= self.x_range[1]\n",
    "            and m >= self.m_range[0] and m <= self.m_range[1]\n",
    "            and a >= self.a_range[0] and a <= self.a_range[1]\n",
    "            and s >= self.s_range[0] and s <= self.s_range[1]):\n",
    "                return self.outcome\n",
    "        return None\n",
    "\n",
    "    def __str__(self):\n",
    "        return f\"X: {self.x_range}, M: {self.m_range}, A: {self.a_range}, S: {self.s_range}, Outcome: {self.outcome}\"\n",
    "\n",
    "def range_finder(current_rule, id, current_ranges):\n",
    "    if id == len(current_rule) - 1:\n",
    "        if current_rule[id] == 'R':\n",
    "            ranges.append(Rule(current_ranges[\"x\"], current_ranges[\"m\"], current_ranges[\"a\"], current_ranges[\"s\"], \"R\"))\n",
    "            return None\n",
    "        if current_rule[id] == 'A':\n",
    "            ranges.append(Rule(current_ranges[\"x\"], current_ranges[\"m\"], current_ranges[\"a\"], current_ranges[\"s\"], \"A\"))\n",
    "            return None\n",
    "        range_finder(rules[current_rule[id]], 0, current_ranges)\n",
    "        return None\n",
    "    quoted_string = re.match(r'([a|s|x|m])([<|>])(\\d+):(\\w+)', current_rule[id]).groups()\n",
    "    letter = quoted_string[0]\n",
    "    sign = quoted_string[1]\n",
    "    number = int(quoted_string[2])\n",
    "    next_rule = quoted_string[3]\n",
    "    if sign == '<':\n",
    "        if current_ranges[letter][1] < number:\n",
    "            range_finder(rules[next_rule], 0, current_ranges)\n",
    "        elif current_ranges[letter][0] > number:\n",
    "            range_finder(current_rule, id+1, current_ranges)\n",
    "        else:\n",
    "            bottom_range = deepcopy(current_ranges)\n",
    "            top_range = deepcopy(current_ranges)\n",
    "            bottom_range[letter][1] = number -1\n",
    "            top_range[letter][0] = number\n",
    "            range_finder(rules[next_rule], 0, bottom_range)\n",
    "            range_finder(current_rule, id+1, top_range)\n",
    "    elif sign == '>':\n",
    "        if current_ranges[letter][0] > number:\n",
    "            range_finder(rules[next_rule], 0, current_ranges)\n",
    "        elif current_ranges[letter][1] < number:\n",
    "            range_finder(current_rule, id+1, current_ranges)\n",
    "        else:\n",
    "            bottom_range = deepcopy(current_ranges)\n",
    "            top_range = deepcopy(current_ranges)\n",
    "            bottom_range[letter][1] = number\n",
    "            top_range[letter][0] = number + 1\n",
    "            range_finder(rules[next_rule], 0, top_range)\n",
    "            range_finder(current_rule, id+1, bottom_range)\n",
    "\n",
    "value = 0\n",
    "for line in lines:\n",
    "    if line == '\\n':\n",
    "        current_ranges = {\"x\": [1, 4000], \"m\": [1, 4000], \"a\": [1, 4000], \"s\": [1, 4000]}\n",
    "        range_finder(rules[\"in\"], 0, current_ranges)\n",
    "    parsed_string = re.match(r'(\\w+)\\{(.*)\\}', line)\n",
    "    if parsed_string:\n",
    "        rules[parsed_string.groups()[0]] = [i for i in parsed_string.groups()[1].split(',')]\n",
    "    parsed_string = list(map(int, re.findall(r'\\d+', line)))\n",
    "    if len(parsed_string) == 4:\n",
    "        result = list(filter(lambda x: x, map(lambda x: x.get_outcome(parsed_string[0], parsed_string[1], parsed_string[2], parsed_string[3]), ranges)))\n",
    "        if result[0] == 'A':\n",
    "            value += sum(parsed_string)\n",
    "\n",
    "print(f\"part 1: {value}\")\n",
    "print(f\"part 2: {sum([i.count_possible_outcomes() for i in ranges if i.outcome == 'A'])}\")"
   ]
  }
 ],
 "metadata": {
  "kernelspec": {
   "display_name": "Python 3",
   "language": "python",
   "name": "python3"
  },
  "language_info": {
   "codemirror_mode": {
    "name": "ipython",
    "version": 3
   },
   "file_extension": ".py",
   "mimetype": "text/x-python",
   "name": "python",
   "nbconvert_exporter": "python",
   "pygments_lexer": "ipython3",
   "version": "3.11.5"
  }
 },
 "nbformat": 4,
 "nbformat_minor": 2
}
