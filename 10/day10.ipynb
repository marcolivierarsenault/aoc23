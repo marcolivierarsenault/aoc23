{
 "cells": [
  {
   "cell_type": "code",
   "execution_count": 1,
   "metadata": {},
   "outputs": [],
   "source": [
    "from shapely.geometry import Point, Polygon\n",
    "import sys"
   ]
  },
  {
   "cell_type": "code",
   "execution_count": 2,
   "metadata": {},
   "outputs": [],
   "source": [
    "file1 = open('input.txt', 'r')\n",
    "lines = file1.readlines()\n"
   ]
  },
  {
   "cell_type": "code",
   "execution_count": 3,
   "metadata": {},
   "outputs": [
    {
     "name": "stdout",
     "output_type": "stream",
     "text": [
      "140 x 141\n"
     ]
    }
   ],
   "source": [
    "\n",
    "full_map = [[char for char in line] for line in lines]\n",
    "print(f\"{len(full_map)} x {len(full_map[0])}\")\n",
    "sys.setrecursionlimit(len(full_map)*len(full_map[0]) +100)"
   ]
  },
  {
   "cell_type": "code",
   "execution_count": 4,
   "metadata": {},
   "outputs": [
    {
     "name": "stdout",
     "output_type": "stream",
     "text": [
      "Part 1: 6968\n"
     ]
    }
   ],
   "source": [
    "start_symbol = 'S'\n",
    "pos_x = 0\n",
    "pos_y = 0\n",
    "path = []\n",
    "\n",
    "for i in range(len(full_map)):\n",
    "    for j in range(len(full_map[i])):\n",
    "        if full_map[i][j] == start_symbol:\n",
    "            pos_x = i\n",
    "            pos_y = j\n",
    "            break\n",
    "start_symbol = 'F'\n",
    "\n",
    "start_position = (pos_x, pos_y)\n",
    "full_map[pos_x][pos_y] = start_symbol\n",
    "\n",
    "looped = False\n",
    "\n",
    "def move_in_map(start_p, current_p, past_p, parcour, polygon):\n",
    "    # print(f\"current: {current_p}, past: {past_p}, parcour: {len(parcour)}\")\n",
    "    if current_p == start_position and len(parcour) > 0:\n",
    "        return (parcour, polygon)\n",
    "\n",
    "    parcour.append(current_p)\n",
    "    current_symbol = full_map[current_p[0]][current_p[1]]\n",
    "\n",
    "    if current_symbol == '-':\n",
    "        if past_p[1] < current_p[1]: # from left\n",
    "            return move_in_map(start_p, (current_p[0], current_p[1] + 1), current_p, parcour, polygon)\n",
    "        if past_p[1] > current_p[1]: # from right\n",
    "            return move_in_map(start_p, (current_p[0], current_p[1] - 1), current_p, parcour, polygon)\n",
    "        print('ERROR')\n",
    "\n",
    "    if current_symbol == '|':\n",
    "        if past_p[0] < current_p[0]: # from bottom\n",
    "            return move_in_map(start_p, (current_p[0] + 1, current_p[1]), current_p, parcour, polygon)\n",
    "        if past_p[0] > current_p[0]: # from top\n",
    "            return move_in_map(start_p, (current_p[0] - 1, current_p[1]), current_p, parcour, polygon)\n",
    "        print('ERROR')\n",
    "\n",
    "    if current_symbol == 'F':\n",
    "        polygon.append(Point(current_p[0], current_p[1]))\n",
    "        if past_p[0] > current_p[0]:\n",
    "            return move_in_map(start_p, (current_p[0], current_p[1] + 1), current_p, parcour, polygon)\n",
    "        if past_p[1] > current_p[1]:\n",
    "            return move_in_map(start_p, (current_p[0] + 1, current_p[1]), current_p, parcour, polygon)\n",
    "        print('ERROR')\n",
    "\n",
    "    if current_symbol == 'L':\n",
    "        polygon.append(Point(current_p[0], current_p[1]))\n",
    "        if past_p[0] < current_p[0]:\n",
    "            return move_in_map(start_p, (current_p[0], current_p[1] + 1), current_p, parcour, polygon)\n",
    "        if past_p[1] > current_p[1]:\n",
    "            return move_in_map(start_p, (current_p[0] - 1, current_p[1]), current_p, parcour, polygon)\n",
    "        print('ERROR')\n",
    "\n",
    "    if current_symbol == 'J':\n",
    "        polygon.append(Point(current_p[0], current_p[1]))\n",
    "        if past_p[0] < current_p[0]:\n",
    "            return move_in_map(start_p, (current_p[0], current_p[1] - 1), current_p, parcour, polygon)\n",
    "        if past_p[1] < current_p[1]:\n",
    "            return move_in_map(start_p, (current_p[0] - 1, current_p[1]), current_p, parcour, polygon)\n",
    "        print('ERROR')\n",
    "\n",
    "    if current_symbol == '7':\n",
    "        polygon.append(Point(current_p[0], current_p[1]))\n",
    "        if past_p[0] > current_p[0]:\n",
    "            return move_in_map(start_p, (current_p[0], current_p[1] - 1), current_p, parcour, polygon)\n",
    "        if past_p[1] < current_p[1]:\n",
    "            return move_in_map(start_p, (current_p[0] + 1, current_p[1]), current_p, parcour, polygon)\n",
    "        print('ERROR')\n",
    "\n",
    "    if current_symbol == '.':\n",
    "        print('ERROR -------- S')\n",
    "        return (parcour, polygon)\n",
    "\n",
    "(par, poly) = move_in_map(start_position, start_position, (start_position[0]+1, start_position[1]), [], [])\n",
    "\n",
    "print(f\"Part 1: {len(par)//2}\")"
   ]
  },
  {
   "cell_type": "code",
   "execution_count": 5,
   "metadata": {},
   "outputs": [
    {
     "name": "stdout",
     "output_type": "stream",
     "text": [
      "Part 2: 413\n"
     ]
    }
   ],
   "source": [
    "polypath = Polygon(poly)\n",
    "\n",
    "inside_points = 0\n",
    "\n",
    "for i in range(len(full_map)):\n",
    "    for j in range(len(full_map[i])):\n",
    "        if (i, j) not in par:\n",
    "            if polypath.contains(Point(i, j)):\n",
    "                inside_points += 1\n",
    "\n",
    "print(f\"Part 2: {inside_points}\")"
   ]
  }
 ],
 "metadata": {
  "kernelspec": {
   "display_name": "Python 3",
   "language": "python",
   "name": "python3"
  },
  "language_info": {
   "codemirror_mode": {
    "name": "ipython",
    "version": 3
   },
   "file_extension": ".py",
   "mimetype": "text/x-python",
   "name": "python",
   "nbconvert_exporter": "python",
   "pygments_lexer": "ipython3",
   "version": "3.12.0"
  }
 },
 "nbformat": 4,
 "nbformat_minor": 2
}
