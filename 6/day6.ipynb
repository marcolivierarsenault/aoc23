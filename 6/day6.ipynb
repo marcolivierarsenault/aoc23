{
 "cells": [
  {
   "cell_type": "code",
   "execution_count": 1,
   "metadata": {},
   "outputs": [],
   "source": [
    "file1 = open('input.txt', 'r')\n",
    "lines = file1.readlines()\n"
   ]
  },
  {
   "cell_type": "code",
   "execution_count": 2,
   "metadata": {},
   "outputs": [],
   "source": [
    "time = []\n",
    "distance = []\n",
    "\n",
    "tt = lines[0].split()\n",
    "times = list(map(int, tt[1:]))\n",
    "\n",
    "dd = lines[1].split()\n",
    "distances = list(map(int, dd[1:]))\n"
   ]
  },
  {
   "cell_type": "code",
   "execution_count": 3,
   "metadata": {},
   "outputs": [
    {
     "name": "stdout",
     "output_type": "stream",
     "text": [
      "[61, 67, 75, 71]\n",
      "[430, 1036, 1307, 1150]\n"
     ]
    }
   ],
   "source": [
    "print(times)\n",
    "print(distances)\n"
   ]
  },
  {
   "cell_type": "code",
   "execution_count": 4,
   "metadata": {},
   "outputs": [],
   "source": [
    "winning_time = []\n",
    "win_count = 0\n",
    "for game in range(len(times)):\n",
    "    wins = []\n",
    "    for options in range(times[game]):\n",
    "        speed = options\n",
    "        time_left = times[game] - speed\n",
    "        distance = speed * time_left\n",
    "        if distance > distances[game]:\n",
    "            wins.append(distance)\n",
    "            win_count += 1\n",
    "    winning_time.append(wins)\n"
   ]
  },
  {
   "cell_type": "code",
   "execution_count": 5,
   "metadata": {},
   "outputs": [
    {
     "name": "stdout",
     "output_type": "stream",
     "text": [
      "Part 1: 316800\n"
     ]
    }
   ],
   "source": [
    "from functools import reduce\n",
    "part1 = reduce(lambda a, b: a*b, list(map(len, winning_time)))\n",
    "print(f\"Part 1: {part1}\")\n"
   ]
  },
  {
   "cell_type": "code",
   "execution_count": 6,
   "metadata": {},
   "outputs": [
    {
     "name": "stdout",
     "output_type": "stream",
     "text": [
      "p2time: 61677571, p2distance: 430103613071150\n"
     ]
    }
   ],
   "source": [
    "p2time = int(reduce(lambda a, b: str(a) + str(b), times))\n",
    "p2distance = int(reduce(lambda a, b: str(a) + str(b), distances))\n",
    "\n",
    "print(f\"p2time: {p2time}, p2distance: {p2distance}\")\n"
   ]
  },
  {
   "cell_type": "code",
   "execution_count": 7,
   "metadata": {},
   "outputs": [
    {
     "name": "stdout",
     "output_type": "stream",
     "text": [
      "Part 2: 45647654\n"
     ]
    }
   ],
   "source": [
    "p2wins = 0\n",
    "for speed in range(p2time):\n",
    "        time_left = p2time - speed\n",
    "        distance = speed * time_left\n",
    "        if distance > p2distance:\n",
    "            p2wins += 1\n",
    "print(f\"Part 2: {p2wins}\")\n"
   ]
  }
 ],
 "metadata": {
  "kernelspec": {
   "display_name": "Python 3",
   "language": "python",
   "name": "python3"
  },
  "language_info": {
   "codemirror_mode": {
    "name": "ipython",
    "version": 3
   },
   "file_extension": ".py",
   "mimetype": "text/x-python",
   "name": "python",
   "nbconvert_exporter": "python",
   "pygments_lexer": "ipython3",
   "version": "3.12.0"
  }
 },
 "nbformat": 4,
 "nbformat_minor": 2
}
