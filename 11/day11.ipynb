{
 "cells": [
  {
   "cell_type": "code",
   "execution_count": 1,
   "metadata": {},
   "outputs": [],
   "source": [
    "from itertools import combinations"
   ]
  },
  {
   "cell_type": "code",
   "execution_count": 2,
   "metadata": {},
   "outputs": [],
   "source": [
    "file1 = open('input.txt', 'r')\n",
    "lines = file1.readlines()\n"
   ]
  },
  {
   "cell_type": "code",
   "execution_count": 3,
   "metadata": {},
   "outputs": [],
   "source": [
    "full_map = [[char for char in line.split()[0]] for line in lines]\n",
    "\n",
    "col_increase = []\n",
    "row_increase = []\n",
    "for i in range(len(full_map[0])):\n",
    "    col = [row[i] for row in full_map]\n",
    "    if all(char == '.' for char in col):\n",
    "        col_increase.append(i)\n",
    "\n",
    "for i, row in enumerate(full_map):\n",
    "    if all(char == '.' for char in row):\n",
    "        row_increase.append(i)\n"
   ]
  },
  {
   "cell_type": "code",
   "execution_count": 4,
   "metadata": {},
   "outputs": [],
   "source": [
    "loacations = []\n",
    "for i, row in enumerate(full_map):\n",
    "    for j, col in enumerate(row):\n",
    "        if col == '#':\n",
    "            loacations.append((i,j))"
   ]
  },
  {
   "cell_type": "code",
   "execution_count": 5,
   "metadata": {},
   "outputs": [
    {
     "name": "stdout",
     "output_type": "stream",
     "text": [
      "Part 1: 10490062\n",
      "Part 2: 382979724122\n"
     ]
    }
   ],
   "source": [
    "\n",
    "all_pairs = list(combinations(loacations, 2))\n",
    "current_distance = []\n",
    "current_distance_v2 = []\n",
    "big_gap = 1000000 - 1\n",
    "\n",
    "\n",
    "for pair in all_pairs:\n",
    "    max_X = max(pair[0][0], pair[1][0])\n",
    "    min_X = min(pair[0][0], pair[1][0])\n",
    "    max_Y = max(pair[0][1], pair[1][1])\n",
    "    min_Y = min(pair[0][1], pair[1][1])\n",
    "    distance = max_X - min_X + max_Y - min_Y\n",
    "    nb_galaxy = 0\n",
    "    for i in col_increase:\n",
    "        if min_Y < i < max_Y:\n",
    "            nb_galaxy+=1\n",
    "    for i in row_increase:\n",
    "        if min_X < i < max_X:\n",
    "            nb_galaxy+=1\n",
    "    current_distance += [distance + nb_galaxy]\n",
    "    current_distance_v2 += [distance + (nb_galaxy*big_gap)]\n",
    "\n",
    "print(f\"Part 1: {sum(current_distance)}\")\n",
    "print(f\"Part 2: {sum(current_distance_v2)}\")"
   ]
  }
 ],
 "metadata": {
  "kernelspec": {
   "display_name": "Python 3",
   "language": "python",
   "name": "python3"
  },
  "language_info": {
   "codemirror_mode": {
    "name": "ipython",
    "version": 3
   },
   "file_extension": ".py",
   "mimetype": "text/x-python",
   "name": "python",
   "nbconvert_exporter": "python",
   "pygments_lexer": "ipython3",
   "version": "3.12.0"
  }
 },
 "nbformat": 4,
 "nbformat_minor": 2
}
