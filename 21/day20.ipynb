{
 "cells": [
  {
   "cell_type": "code",
   "execution_count": 1,
   "metadata": {},
   "outputs": [],
   "source": [
    "file1 = open('input.txt', 'r')\n",
    "lines = file1.readlines()"
   ]
  },
  {
   "cell_type": "code",
   "execution_count": 2,
   "metadata": {},
   "outputs": [
    {
     "name": "stdout",
     "output_type": "stream",
     "text": [
      "part 1: 43\n"
     ]
    }
   ],
   "source": [
    "exclcuded = set()\n",
    "rocks = set()\n",
    "positions = set()\n",
    "for i, line in enumerate(lines):\n",
    "    exclcuded.add((i, -1))\n",
    "    for j, char in enumerate([*line.strip()]):\n",
    "        if char == '#':\n",
    "            rocks.add((i, j))\n",
    "        elif char == 'S':\n",
    "            positions.add((i, j))\n",
    "    exclcuded.add((i, len(line.strip())))\n",
    "\n",
    "for i in range(len(lines[0].strip())):\n",
    "    exclcuded.add((-1, i))\n",
    "    exclcuded.add((len(lines), i))\n",
    "\n",
    "def process(positions):\n",
    "    new_positions = set()\n",
    "    for pos in positions:\n",
    "        new_positions.add((pos[0] + 1, pos[1]))\n",
    "        new_positions.add((pos[0], pos[1] + 1))\n",
    "        new_positions.add((pos[0] - 1, pos[1]))\n",
    "        new_positions.add((pos[0], pos[1] - 1))\n",
    "    return new_positions - exclcuded - rocks\n",
    "\n",
    "\n",
    "for i in range(6):\n",
    "    positions = process(frozenset(positions))\n",
    "\n",
    "print(f\"part 1: {len(positions)}\")"
   ]
  },
  {
   "cell_type": "code",
   "execution_count": 3,
   "metadata": {},
   "outputs": [
    {
     "name": "stdout",
     "output_type": "stream",
     "text": [
      "We have 399 iterations\n"
     ]
    }
   ],
   "source": [
    "expand = 5\n",
    "\n",
    "exclcuded = set()\n",
    "rocks = set()\n",
    "positions = set()\n",
    "\n",
    "for i, line in enumerate(lines):\n",
    "    for j, char in enumerate([*line.strip()]):\n",
    "        if char == '#':\n",
    "            rocks.add((i, j))\n",
    "        elif char == 'S':\n",
    "            positions.add((i, j))\n",
    "\n",
    "lenght = len(lines)\n",
    "assert len(lines) == len(lines[0].strip())\n",
    "\n",
    "new_rocks = rocks.copy()\n",
    "for i in range(expand):\n",
    "    for j in range(expand):\n",
    "        new_rocks |= set(map(lambda x: (x[0]+i*lenght, x[1]+j*lenght), rocks))\n",
    "        new_rocks |= set(map(lambda x: (x[0]-i*lenght, x[1]+j*lenght), rocks))\n",
    "        new_rocks |= set(map(lambda x: (x[0]+i*lenght, x[1]-j*lenght), rocks))\n",
    "        new_rocks |= set(map(lambda x: (x[0]-i*lenght, x[1]-j*lenght), rocks))\n",
    "\n",
    "for i in range(-lenght*(expand-1),lenght*expand):\n",
    "        exclcuded.add((i, -lenght*(expand-1)-1))\n",
    "        exclcuded.add((i, lenght*expand))\n",
    "\n",
    "for i in range(-lenght*(expand-1),lenght*expand):\n",
    "        exclcuded.add((-lenght*(expand-1)-1, i))\n",
    "        exclcuded.add((lenght*expand, i))\n",
    "\n",
    "\n",
    "def process(positions):\n",
    "    new_positions = set()\n",
    "    for pos in positions:\n",
    "        new_positions.add((pos[0] + 1, pos[1]))\n",
    "        new_positions.add((pos[0], pos[1] + 1))\n",
    "        new_positions.add((pos[0] - 1, pos[1]))\n",
    "        new_positions.add((pos[0], pos[1] - 1))\n",
    "    if new_positions.intersection(exclcuded):\n",
    "        return -1\n",
    "    return new_positions - new_rocks\n",
    "\n",
    "results = []\n",
    "for i in range(400):\n",
    "    positions = process(positions)\n",
    "    if positions == -1:\n",
    "        print(\"edge\")\n",
    "        break\n",
    "    results.append(len(positions))\n",
    "print(f\"We have {i} iterations\")\n",
    "\n"
   ]
  },
  {
   "cell_type": "code",
   "execution_count": 4,
   "metadata": {},
   "outputs": [
    {
     "name": "stdout",
     "output_type": "stream",
     "text": [
      "anchor found: 0\n"
     ]
    }
   ],
   "source": [
    "anchor = 0\n",
    "loop = lenght\n",
    "found = False\n",
    "while not found:\n",
    "    diff_first_degree = list(map(lambda x: x[0]-x[1], zip(results[anchor+1:anchor+loop+1], results[anchor:anchor+loop])))\n",
    "    diff_first_degree_2nd_series = list(map(lambda x: x[0]-x[1], zip(results[anchor+loop+1:anchor+loop*2+1], results[anchor+loop:anchor+loop*2])))\n",
    "    diff_first_degree_third_series = list(map(lambda x: x[0]-x[1], zip(results[anchor+loop*2+1:anchor+loop*3+1], results[anchor+loop*2:anchor+loop*3])))\n",
    "\n",
    "    diff_second_degre = list(map(lambda x: x[0]-x[1], zip(diff_first_degree_2nd_series, diff_first_degree)))\n",
    "    diff_second_degre_2nd = list(map(lambda x: x[0]-x[1], zip(diff_first_degree_third_series, diff_first_degree_2nd_series)))\n",
    "    if diff_second_degre == diff_second_degre_2nd:\n",
    "        found = True\n",
    "    else:\n",
    "        anchor += 1\n",
    "print(f\"anchor found: {anchor}\")\n"
   ]
  },
  {
   "cell_type": "code",
   "execution_count": 5,
   "metadata": {},
   "outputs": [
    {
     "name": "stdout",
     "output_type": "stream",
     "text": [
      "part 2: 637537341306357\n"
     ]
    }
   ],
   "source": [
    "target = 26501365\n",
    "\n",
    "new_output = []\n",
    "current = results[anchor]\n",
    "new_output.append(current)\n",
    "for i in range(target):\n",
    "    lp = i//loop\n",
    "    index = i%loop\n",
    "    current += diff_first_degree[index] + diff_second_degre[index]*lp\n",
    "    new_output.append(current)\n",
    "print(f\"part 2: {new_output[target-anchor-1]}\")"
   ]
  }
 ],
 "metadata": {
  "kernelspec": {
   "display_name": "Python 3",
   "language": "python",
   "name": "python3"
  },
  "language_info": {
   "codemirror_mode": {
    "name": "ipython",
    "version": 3
   },
   "file_extension": ".py",
   "mimetype": "text/x-python",
   "name": "python",
   "nbconvert_exporter": "python",
   "pygments_lexer": "ipython3",
   "version": "3.11.5"
  }
 },
 "nbformat": 4,
 "nbformat_minor": 2
}
