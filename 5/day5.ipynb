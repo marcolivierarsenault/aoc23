{
 "cells": [
  {
   "cell_type": "code",
   "execution_count": 73,
   "metadata": {},
   "outputs": [],
   "source": [
    "import re\n"
   ]
  },
  {
   "cell_type": "code",
   "execution_count": 74,
   "metadata": {},
   "outputs": [],
   "source": [
    "file1 = open('input.txt', 'r')\n",
    "lines = file1.readlines()\n"
   ]
  },
  {
   "cell_type": "code",
   "execution_count": 75,
   "metadata": {},
   "outputs": [],
   "source": [
    "seeds = []\n",
    "seed_groups = []\n",
    "maps = {}\n",
    "current_map = ()\n",
    "for line in lines:\n",
    "    if re.match(r'seeds:', line) is not None:\n",
    "        seeds_output = re.findall(r'\\b\\d+\\b', line)\n",
    "        seeds = seeds_output\n",
    "        for i in range(0, len(seeds_output), 2):\n",
    "            seed_groups.append((int(seeds_output[i]), int(seeds_output[i+1])))\n",
    "    if line == \"\\n\" or not line:\n",
    "        continue\n",
    "\n",
    "    if re.match(r'(\\w*)-to-(\\w*) map', line) is not None:\n",
    "        current_map =re.match(r'(\\w*)-to-(\\w*) map', line).groups()\n",
    "        maps[f\"{current_map[0]}-to-{current_map[1]}\"] = {}\n",
    "        maps[f\"{current_map[1]}-to-{current_map[0]}\"] = {}\n",
    "        continue\n",
    "\n",
    "    if re.match(r'^\\d+ \\d+ \\d+$', line) is not None:\n",
    "        (elem1, elem2, cnt) = re.match(r'^(\\d+) (\\d+) (\\d+)$', line).groups()\n",
    "        maps[f\"{current_map[0]}-to-{current_map[1]}\"][int(elem2)] = {\"diff\": int(elem1) - int(elem2), \"cnt\": int(cnt)}\n",
    "        maps[f\"{current_map[1]}-to-{current_map[0]}\"][int(elem1)] = {\"diff\": int(elem2) - int(elem1), \"cnt\": int(cnt)}\n"
   ]
  },
  {
   "cell_type": "code",
   "execution_count": 76,
   "metadata": {},
   "outputs": [],
   "source": [
    "def get_value(dict, key):\n",
    "    key_under = max([i for i in list(dict.keys()) if i <= key], default=None)\n",
    "    if key_under is None:\n",
    "        return key\n",
    "    if dict[key_under][\"cnt\"] + key_under < key:\n",
    "        return key\n",
    "    return key+dict[key_under][\"diff\"]\n"
   ]
  },
  {
   "cell_type": "code",
   "execution_count": 77,
   "metadata": {},
   "outputs": [
    {
     "name": "stdout",
     "output_type": "stream",
     "text": [
      "part1: 35\n"
     ]
    }
   ],
   "source": [
    "min_value = 999999999999999999999999999999999999\n",
    "seed_details = {}\n",
    "\n",
    "for seed in seeds:\n",
    "    soil = get_value(maps[\"seed-to-soil\"], int(seed))\n",
    "    fertilizer = get_value(maps[\"soil-to-fertilizer\"], soil)\n",
    "    water = get_value(maps[\"fertilizer-to-water\"], fertilizer)\n",
    "    light = get_value(maps[\"water-to-light\"], water)\n",
    "    temperature = get_value(maps[\"light-to-temperature\"], light)\n",
    "    humidity = get_value(maps[\"temperature-to-humidity\"], temperature)\n",
    "    location = get_value(maps[\"humidity-to-location\"], humidity)\n",
    "    if location < min_value:\n",
    "        min_value = location\n",
    "    seed_details[seed] = {\n",
    "        \"seed\": seed,\n",
    "        \"soil\": soil,\n",
    "        \"fertilizer\": fertilizer,\n",
    "        \"water\": water,\n",
    "        \"light\": light,\n",
    "        \"temperature\": temperature,\n",
    "        \"humidity\": humidity,\n",
    "        \"location\": location\n",
    "    }\n",
    "print(f\"part1: {min_value}\")\n"
   ]
  },
  {
   "cell_type": "code",
   "execution_count": 78,
   "metadata": {},
   "outputs": [
    {
     "name": "stdout",
     "output_type": "stream",
     "text": [
      "location:0\n",
      "part2 location:46 seed:82\n"
     ]
    }
   ],
   "source": [
    "current_location = 219000000 # starting here to save time, but did multiple runs to find the right starting point\n",
    "found = False\n",
    "while not found:\n",
    "    if current_location % 1000000 ==0:\n",
    "        print(f\"location:{current_location}\")\n",
    "    humidity = get_value(maps[\"location-to-humidity\"], current_location)\n",
    "    temperature = get_value(maps[\"humidity-to-temperature\"], humidity)\n",
    "    light = get_value(maps[\"temperature-to-light\"], temperature)\n",
    "    water = get_value(maps[\"light-to-water\"], light)\n",
    "    fertilizer = get_value(maps[\"water-to-fertilizer\"], water)\n",
    "    soil = get_value(maps[\"fertilizer-to-soil\"], fertilizer)\n",
    "    seed = get_value(maps[\"soil-to-seed\"], soil)\n",
    "    for seed_tupple in seed_groups:\n",
    "        if seed_tupple[0] <= seed <= seed_tupple[0] + seed_tupple[1]:\n",
    "            print(f\"part2 location:{current_location} seed:{seed}\")\n",
    "            found = True\n",
    "            break\n",
    "\n",
    "    current_location += 1\n",
    "\n"
   ]
  },
  {
   "cell_type": "code",
   "execution_count": 79,
   "metadata": {},
   "outputs": [
    {
     "name": "stdout",
     "output_type": "stream",
     "text": [
      "part 2: min location 46\n"
     ]
    }
   ],
   "source": [
    "from multiprocessing.pool import ThreadPool as Pool\n",
    "from multiprocessing import Value\n",
    "\n",
    "\n",
    "pool_size = 20\n",
    "increment = 340000000/20\n",
    "\n",
    "# define worker function before a Pool is instantiated\n",
    "def worker(entry):\n",
    "    current_location = entry * increment\n",
    "    found = False\n",
    "    seed = 0\n",
    "    initial_location = current_location\n",
    "\n",
    "    while not found and current_location<=initial_location+increment:\n",
    "        humidity = get_value(maps[\"location-to-humidity\"], current_location)\n",
    "        temperature = get_value(maps[\"humidity-to-temperature\"], humidity)\n",
    "        light = get_value(maps[\"temperature-to-light\"], temperature)\n",
    "        water = get_value(maps[\"light-to-water\"], light)\n",
    "        fertilizer = get_value(maps[\"water-to-fertilizer\"], water)\n",
    "        soil = get_value(maps[\"fertilizer-to-soil\"], fertilizer)\n",
    "        seed = get_value(maps[\"soil-to-seed\"], soil)\n",
    "        for seed_tupple in seed_groups:\n",
    "            if seed_tupple[0] <= seed <= seed_tupple[0] + seed_tupple[1]:\n",
    "                return current_location\n",
    "\n",
    "        current_location += 1\n",
    "\n",
    "pool = Pool(processes=pool_size)\n",
    "\n",
    "variable = Value('i', 0)\n",
    "\n",
    "pool = multiprocess.Pool(processes = pool_size)\n",
    "output_from_processes = pool.map(worker, range(pool_size))\n",
    "\n",
    "\n",
    "print(f\"part 2: min location {min(value for value in output_from_processes if value is not None)}\")\n"
   ]
  }
 ],
 "metadata": {
  "kernelspec": {
   "display_name": "Python 3",
   "language": "python",
   "name": "python3"
  },
  "language_info": {
   "codemirror_mode": {
    "name": "ipython",
    "version": 3
   },
   "file_extension": ".py",
   "mimetype": "text/x-python",
   "name": "python",
   "nbconvert_exporter": "python",
   "pygments_lexer": "ipython3",
   "version": "3.11.5"
  }
 },
 "nbformat": 4,
 "nbformat_minor": 2
}
