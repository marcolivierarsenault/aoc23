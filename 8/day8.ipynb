{
 "cells": [
  {
   "cell_type": "code",
   "execution_count": 1,
   "metadata": {},
   "outputs": [],
   "source": [
    "import re\n",
    "from math import gcd\n"
   ]
  },
  {
   "cell_type": "code",
   "execution_count": 2,
   "metadata": {},
   "outputs": [],
   "source": [
    "file1 = open('input.txt', 'r')\n",
    "lines = file1.readlines()\n"
   ]
  },
  {
   "cell_type": "code",
   "execution_count": 3,
   "metadata": {},
   "outputs": [],
   "source": [
    "directions = [*lines[0].strip()]\n",
    "map_world = {}\n",
    "for i in range(len(lines)-2):\n",
    "    path = re.findall(r'(\\w{3}) = \\((\\w{3})\\, (\\w{3})\\)', lines[i+2])[0]\n",
    "    map_world[path[0]] = {\n",
    "        \"l\": path[1],\n",
    "        \"r\": path[2]\n",
    "    }\n"
   ]
  },
  {
   "cell_type": "code",
   "execution_count": 4,
   "metadata": {},
   "outputs": [
    {
     "name": "stdout",
     "output_type": "stream",
     "text": [
      "Part 1: 12737\n"
     ]
    }
   ],
   "source": [
    "found = False\n",
    "steps = 0\n",
    "current_place = \"AAA\"\n",
    "\n",
    "while not found:\n",
    "    if directions[steps % len(directions)] == \"R\":\n",
    "        current_place = map_world[current_place][\"r\"]\n",
    "    else:\n",
    "        current_place = map_world[current_place][\"l\"]\n",
    "    steps += 1\n",
    "\n",
    "    if current_place == \"ZZZ\":\n",
    "        found = True\n",
    "print(f\"Part 1: {steps}\")\n"
   ]
  },
  {
   "cell_type": "code",
   "execution_count": 5,
   "metadata": {},
   "outputs": [
    {
     "name": "stdout",
     "output_type": "stream",
     "text": [
      "Part 2: 9064949303801\n"
     ]
    }
   ],
   "source": [
    "locations = list(filter(lambda a: a[-1] =='A', map_world.keys()))\n",
    "all_steps = []\n",
    "\n",
    "\n",
    "for location in locations:\n",
    "    found = False\n",
    "    steps = 0\n",
    "    while not found:\n",
    "        if directions[steps % len(directions)] == \"R\":\n",
    "            location = map_world[location][\"r\"]\n",
    "        else:\n",
    "            location = map_world[location][\"l\"]\n",
    "        steps += 1\n",
    "\n",
    "        if location[-1] == \"Z\":\n",
    "            found = True\n",
    "\n",
    "    all_steps.append(steps)\n",
    "\n",
    "lcm = 1\n",
    "for i in all_steps:\n",
    "    lcm = lcm*i//gcd(lcm, i)\n",
    "\n",
    "print(f\"Part 2: {lcm}\")\n"
   ]
  }
 ],
 "metadata": {
  "kernelspec": {
   "display_name": "Python 3",
   "language": "python",
   "name": "python3"
  },
  "language_info": {
   "codemirror_mode": {
    "name": "ipython",
    "version": 3
   },
   "file_extension": ".py",
   "mimetype": "text/x-python",
   "name": "python",
   "nbconvert_exporter": "python",
   "pygments_lexer": "ipython3",
   "version": "3.12.0"
  }
 },
 "nbformat": 4,
 "nbformat_minor": 2
}
