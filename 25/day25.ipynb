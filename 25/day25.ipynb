{
 "cells": [
  {
   "cell_type": "code",
   "execution_count": 1,
   "metadata": {},
   "outputs": [],
   "source": [
    "import networkx as nx"
   ]
  },
  {
   "cell_type": "code",
   "execution_count": 2,
   "metadata": {},
   "outputs": [],
   "source": [
    "file1 = open('input.txt', 'r')\n",
    "lines = file1.readlines()"
   ]
  },
  {
   "cell_type": "code",
   "execution_count": 3,
   "metadata": {},
   "outputs": [
    {
     "name": "stdout",
     "output_type": "stream",
     "text": [
      "removing ('kdk', 'nct') ('cvx', 'tvj') ('spx', 'fsv')\n",
      "part1 532891\n"
     ]
    }
   ],
   "source": [
    "G = nx.Graph()\n",
    "for line in lines:\n",
    "    row = line.strip().split(':')\n",
    "    for target in row[1].strip().split():\n",
    "        G.add_edge(row[0].strip(), target)\n",
    "\n",
    "costs = []\n",
    "for edge in G.edges:\n",
    "    G.remove_edge(*edge)\n",
    "    costs.append((edge, nx.shortest_path_length(G, *edge)))\n",
    "    G.add_edge(*edge)\n",
    "\n",
    "costs = sorted(costs, key=lambda x: x[1], reverse=True)\n",
    "[G.remove_edge(*costs[i][0]) for i in range(3)]\n",
    "\n",
    "print(f\"removing {costs[0][0]} {costs[1][0]} {costs[2][0]}\")\n",
    "print(f\"part1 {len(nx.node_connected_component(G, costs[0][0][0])) * len(nx.node_connected_component(G, costs[0][0][1]))}\")"
   ]
  }
 ],
 "metadata": {
  "kernelspec": {
   "display_name": "Python 3",
   "language": "python",
   "name": "python3"
  },
  "language_info": {
   "codemirror_mode": {
    "name": "ipython",
    "version": 3
   },
   "file_extension": ".py",
   "mimetype": "text/x-python",
   "name": "python",
   "nbconvert_exporter": "python",
   "pygments_lexer": "ipython3",
   "version": "3.11.5"
  }
 },
 "nbformat": 4,
 "nbformat_minor": 2
}
