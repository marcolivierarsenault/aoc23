{
 "cells": [
  {
   "cell_type": "code",
   "execution_count": 1,
   "metadata": {},
   "outputs": [],
   "source": [
    "import shapely\n",
    "from shapely import Point\n",
    "import numpy as np\n",
    "import regex as re"
   ]
  },
  {
   "cell_type": "code",
   "execution_count": 2,
   "metadata": {},
   "outputs": [],
   "source": [
    "file1 = open('input.txt', 'r')\n",
    "lines = file1.readlines()"
   ]
  },
  {
   "cell_type": "code",
   "execution_count": 3,
   "metadata": {},
   "outputs": [
    {
     "name": "stdout",
     "output_type": "stream",
     "text": [
      "part 1: 45159\n"
     ]
    }
   ],
   "source": [
    "grid = np.array([Point(0, 0)])\n",
    "current_position = (0, 0)\n",
    "\n",
    "for line in lines:\n",
    "    direction = line.split()\n",
    "    if direction[0] == 'D':\n",
    "        current_position = (current_position[0] + int(direction[1]), current_position[1])\n",
    "    elif direction[0] == 'U':\n",
    "        current_position = (current_position[0] - int(direction[1]), current_position[1])\n",
    "    elif direction[0] == 'R':\n",
    "        current_position = (current_position[0], current_position[1] + int(direction[1]))\n",
    "    elif direction[0] == 'L':\n",
    "        current_position = (current_position[0], current_position[1] - int(direction[1]))\n",
    "    grid = np.append(grid, Point(current_position[0], current_position[1]))\n",
    "\n",
    "poly = shapely.Polygon(grid)\n",
    "print(f\"part 1: {int(poly.length/2+poly.area+1)}\")"
   ]
  },
  {
   "cell_type": "code",
   "execution_count": 4,
   "metadata": {},
   "outputs": [
    {
     "name": "stdout",
     "output_type": "stream",
     "text": [
      "part 2: 134549294799713\n"
     ]
    }
   ],
   "source": [
    "grid = np.array([Point(0, 0)])\n",
    "current_position = (0, 0)\n",
    "\n",
    "for line in lines:\n",
    "    direction = line.split()\n",
    "    match = re.findall(r'\\(\\#(.{5})(.)\\)', direction[2])[0]\n",
    "    distance = int(match[0],16)\n",
    "    if match[1] == '1':\n",
    "        current_position = (current_position[0] + distance, current_position[1])\n",
    "    elif match[1] == '3':\n",
    "        current_position = (current_position[0] - distance, current_position[1])\n",
    "    elif match[1] == '0':\n",
    "        current_position = (current_position[0], current_position[1] + distance)\n",
    "    elif match[1] == '2':\n",
    "        current_position = (current_position[0], current_position[1] - distance)\n",
    "    grid = np.append(grid, Point(current_position[0], current_position[1]))\n",
    "\n",
    "poly = shapely.Polygon(grid)\n",
    "print(f\"part 2: {int(poly.length/2+poly.area+1)}\")"
   ]
  }
 ],
 "metadata": {
  "kernelspec": {
   "display_name": "Python 3",
   "language": "python",
   "name": "python3"
  },
  "language_info": {
   "codemirror_mode": {
    "name": "ipython",
    "version": 3
   },
   "file_extension": ".py",
   "mimetype": "text/x-python",
   "name": "python",
   "nbconvert_exporter": "python",
   "pygments_lexer": "ipython3",
   "version": "3.12.0"
  }
 },
 "nbformat": 4,
 "nbformat_minor": 2
}
