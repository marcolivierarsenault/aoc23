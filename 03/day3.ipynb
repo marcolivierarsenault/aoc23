{
 "cells": [
  {
   "cell_type": "code",
   "execution_count": 1,
   "metadata": {},
   "outputs": [],
   "source": [
    "file1 = open('input.txt', 'r')\n",
    "lines = file1.readlines()\n"
   ]
  },
  {
   "cell_type": "code",
   "execution_count": 2,
   "metadata": {},
   "outputs": [],
   "source": [
    "import re\n"
   ]
  },
  {
   "cell_type": "code",
   "execution_count": 3,
   "metadata": {},
   "outputs": [],
   "source": [
    "numbers = []\n",
    "symbols = []\n",
    "for line_cnt,line in enumerate(lines):\n",
    "    for match in re.finditer(r'\\d+', line):\n",
    "        numbers.append({\n",
    "            \"number\": int(match.group()),\n",
    "            \"start\": match.start()-1,\n",
    "            \"end\": match.end(),\n",
    "            \"line\": line_cnt\n",
    "        })\n",
    "\n",
    "for line_cnt,line in enumerate(lines):\n",
    "    for match in re.finditer(r'[^.0-9\\n]+', line):\n",
    "        symbols.append({\n",
    "            \"symbols\": (match.group()),\n",
    "            \"position\": match.start(),\n",
    "            \"line\": line_cnt,\n",
    "            \"number_included\": []\n",
    "        })\n",
    "\n"
   ]
  },
  {
   "cell_type": "code",
   "execution_count": 4,
   "metadata": {},
   "outputs": [
    {
     "name": "stdout",
     "output_type": "stream",
     "text": [
      "part 1, sum of the numbers: 520019\n"
     ]
    }
   ],
   "source": [
    "valid_numbers = []\n",
    "number_sum = 0\n",
    "for number in numbers:\n",
    "    for symbol in symbols:\n",
    "        if number[\"line\"] - 1 <= symbol[\"line\"] and number[\"line\"] + 1 >= symbol[\"line\"]:\n",
    "            if number[\"start\"] <= symbol[\"position\"] and number[\"end\"] >= symbol[\"position\"]:\n",
    "                valid_numbers.append(number)\n",
    "                number_sum += number[\"number\"]\n",
    "                if symbol[\"symbols\"] == \"*\":\n",
    "                    symbol[\"number_included\"].append(number)\n",
    "print(f\"part 1, sum of the numbers: {number_sum}\")\n",
    "\n"
   ]
  },
  {
   "cell_type": "code",
   "execution_count": 5,
   "metadata": {},
   "outputs": [],
   "source": [
    "gear_value = 0\n",
    "for symbol in symbols:\n",
    "    if symbol[\"symbols\"] == \"*\":\n",
    "        if len(symbol[\"number_included\"]) == 2:\n",
    "            gear_value += symbol[\"number_included\"][0][\"number\"] * symbol[\"number_included\"][1][\"number\"]\n"
   ]
  },
  {
   "cell_type": "code",
   "execution_count": 6,
   "metadata": {},
   "outputs": [
    {
     "name": "stdout",
     "output_type": "stream",
     "text": [
      "part 2, sum of the gears: 75519888\n"
     ]
    }
   ],
   "source": [
    "print(f\"part 2, sum of the gears: {gear_value}\")\n"
   ]
  }
 ],
 "metadata": {
  "kernelspec": {
   "display_name": "Python 3",
   "language": "python",
   "name": "python3"
  },
  "language_info": {
   "codemirror_mode": {
    "name": "ipython",
    "version": 3
   },
   "file_extension": ".py",
   "mimetype": "text/x-python",
   "name": "python",
   "nbconvert_exporter": "python",
   "pygments_lexer": "ipython3",
   "version": "3.12.0"
  }
 },
 "nbformat": 4,
 "nbformat_minor": 2
}
