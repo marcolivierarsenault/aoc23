{
 "cells": [
  {
   "cell_type": "code",
   "execution_count": 1,
   "metadata": {},
   "outputs": [],
   "source": [
    "from functools import cache"
   ]
  },
  {
   "cell_type": "code",
   "execution_count": 2,
   "metadata": {},
   "outputs": [],
   "source": [
    "file1 = open('input.txt', 'r')\n",
    "lines = file1.readlines()"
   ]
  },
  {
   "cell_type": "code",
   "execution_count": 3,
   "metadata": {},
   "outputs": [],
   "source": [
    "@cache\n",
    "def dig(code, sequence, counter):\n",
    "    matches = 0\n",
    "\n",
    "    if not code:\n",
    "        if len(sequence) == 0 and counter == 0:\n",
    "            return 1\n",
    "        else:\n",
    "            return 0\n",
    "    if len(sequence) > 0 and sequence[0] < counter:\n",
    "        return 0\n",
    "    if code[0] == \".\" or  code[0] == \"?\":\n",
    "        if counter == 0 or (len(sequence) > 0 and sequence[0] == counter):\n",
    "            matches += dig(code[1:], sequence[1:] if counter else sequence, 0)\n",
    "    if code[0] == \"#\" or  code[0] == \"?\":\n",
    "        matches += dig(code[1:], sequence, counter + 1)\n",
    "    return matches"
   ]
  },
  {
   "cell_type": "code",
   "execution_count": 4,
   "metadata": {},
   "outputs": [
    {
     "name": "stdout",
     "output_type": "stream",
     "text": [
      "Part1 7771\n",
      "Part2 10861030975833\n"
     ]
    }
   ],
   "source": [
    "sum = 0\n",
    "sum2 = 0\n",
    "for line in lines:\n",
    "    code, sequence = line.split()\n",
    "    sequence = tuple(int(x) for x in sequence.split(\",\"))\n",
    "    long_code = \"?\".join([code] * 5)\n",
    "    sum += dig(code + \".\", sequence, 0)\n",
    "    sum2 += dig(long_code + \".\", sequence*5, 0)\n",
    "print(f\"Part1 {sum}\")\n",
    "print(f\"Part2 {sum2}\")"
   ]
  }
 ],
 "metadata": {
  "kernelspec": {
   "display_name": "Python 3",
   "language": "python",
   "name": "python3"
  },
  "language_info": {
   "codemirror_mode": {
    "name": "ipython",
    "version": 3
   },
   "file_extension": ".py",
   "mimetype": "text/x-python",
   "name": "python",
   "nbconvert_exporter": "python",
   "pygments_lexer": "ipython3",
   "version": "3.12.0"
  }
 },
 "nbformat": 4,
 "nbformat_minor": 2
}
