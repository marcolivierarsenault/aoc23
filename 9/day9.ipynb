{
 "cells": [
  {
   "cell_type": "code",
   "execution_count": 1,
   "metadata": {},
   "outputs": [],
   "source": [
    "file1 = open('input.txt', 'r')\n",
    "lines = file1.readlines()\n"
   ]
  },
  {
   "cell_type": "code",
   "execution_count": 2,
   "metadata": {},
   "outputs": [
    {
     "name": "stdout",
     "output_type": "stream",
     "text": [
      "Part1: 1772145754\n"
     ]
    }
   ],
   "source": [
    "def build_sequences(all_sequences):\n",
    "    sequence = all_sequences[-1]\n",
    "    return_sequences = [x - y for x, y in zip(sequence[1:], sequence)]\n",
    "    all_sequences.append(return_sequences)\n",
    "    if all(map(lambda x: x == 0, return_sequences)):\n",
    "        return all_sequences\n",
    "    return build_sequences(all_sequences)\n",
    "\n",
    "def calculate_score(sequences, position):\n",
    "    if len(sequences) == position + 1:\n",
    "        sequences[position].append(0)\n",
    "        return calculate_score(sequences, position-1)\n",
    "    sequences[position].append(sequences[position+1][-1]+sequences[position][-1])\n",
    "    if position == 0:\n",
    "        return sequences\n",
    "    return calculate_score(sequences, position-1)\n",
    "\n",
    "total_sequences = []\n",
    "\n",
    "for line in lines:\n",
    "    sequence = line.split()\n",
    "    sequence = list(map(int, sequence))\n",
    "    all_sequences = build_sequences([sequence])\n",
    "    all_sequences = calculate_score(all_sequences, len(all_sequences)-1)\n",
    "    total_sequences.append(all_sequences)\n",
    "\n",
    "part_1 = 0\n",
    "for sequence in total_sequences:\n",
    "    part_1 += sequence[0][-1]\n",
    "\n",
    "print(f\"Part1: {part_1}\")\n",
    "\n"
   ]
  },
  {
   "cell_type": "code",
   "execution_count": 3,
   "metadata": {},
   "outputs": [
    {
     "name": "stdout",
     "output_type": "stream",
     "text": [
      "Part2: 867\n"
     ]
    }
   ],
   "source": [
    "backward_total_sequences = []\n",
    "\n",
    "for line in lines:\n",
    "    sequence = line.split()\n",
    "    sequence.reverse()\n",
    "    sequence = list(map(int, sequence))\n",
    "    all_sequences = build_sequences([sequence])\n",
    "    all_sequences = calculate_score(all_sequences, len(all_sequences)-1)\n",
    "    backward_total_sequences.append(all_sequences)\n",
    "\n",
    "part_2 = 0\n",
    "for sequence in backward_total_sequences:\n",
    "    part_2 += sequence[0][-1]\n",
    "\n",
    "print(f\"Part2: {part_2}\")"
   ]
  }
 ],
 "metadata": {
  "kernelspec": {
   "display_name": "Python 3",
   "language": "python",
   "name": "python3"
  },
  "language_info": {
   "codemirror_mode": {
    "name": "ipython",
    "version": 3
   },
   "file_extension": ".py",
   "mimetype": "text/x-python",
   "name": "python",
   "nbconvert_exporter": "python",
   "pygments_lexer": "ipython3",
   "version": "3.12.0"
  }
 },
 "nbformat": 4,
 "nbformat_minor": 2
}
