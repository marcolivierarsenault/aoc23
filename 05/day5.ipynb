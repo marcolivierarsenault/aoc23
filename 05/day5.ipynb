{
 "cells": [
  {
   "cell_type": "code",
   "execution_count": 1,
   "metadata": {},
   "outputs": [],
   "source": [
    "import re\n"
   ]
  },
  {
   "cell_type": "code",
   "execution_count": 2,
   "metadata": {},
   "outputs": [],
   "source": [
    "file1 = open('input.txt', 'r')\n",
    "lines = file1.readlines()\n"
   ]
  },
  {
   "cell_type": "code",
   "execution_count": 3,
   "metadata": {},
   "outputs": [],
   "source": [
    "seeds = []\n",
    "seed_groups = []\n",
    "maps = {}\n",
    "current_map = ()\n",
    "for line in lines:\n",
    "    if re.match(r'seeds:', line) is not None:\n",
    "        seeds_output = re.findall(r'\\b\\d+\\b', line)\n",
    "        seeds = seeds_output\n",
    "        for i in range(0, len(seeds_output), 2):\n",
    "            seed_groups.append((int(seeds_output[i]), int(seeds_output[i+1])))\n",
    "    if line == \"\\n\" or not line:\n",
    "        continue\n",
    "\n",
    "    if re.match(r'(\\w*)-to-(\\w*) map', line) is not None:\n",
    "        current_map =re.match(r'(\\w*)-to-(\\w*) map', line).groups()\n",
    "        maps[f\"{current_map[0]}-to-{current_map[1]}\"] = {}\n",
    "        maps[f\"{current_map[1]}-to-{current_map[0]}\"] = {}\n",
    "        continue\n",
    "\n",
    "    if re.match(r'^\\d+ \\d+ \\d+$', line) is not None:\n",
    "        (elem1, elem2, cnt) = re.match(r'^(\\d+) (\\d+) (\\d+)$', line).groups()\n",
    "        maps[f\"{current_map[0]}-to-{current_map[1]}\"][int(elem2)] = {\"diff\": int(elem1) - int(elem2), \"cnt\": int(cnt)}\n",
    "        maps[f\"{current_map[1]}-to-{current_map[0]}\"][int(elem1)] = {\"diff\": int(elem2) - int(elem1), \"cnt\": int(cnt)}\n"
   ]
  },
  {
   "cell_type": "code",
   "execution_count": 4,
   "metadata": {},
   "outputs": [],
   "source": [
    "def get_value(dict, key):\n",
    "    key_under = max([i for i in list(dict.keys()) if i <= key], default=None)\n",
    "    if key_under is None:\n",
    "        return key\n",
    "    if dict[key_under][\"cnt\"] + key_under < key:\n",
    "        return key\n",
    "    return key+dict[key_under][\"diff\"]\n"
   ]
  },
  {
   "cell_type": "code",
   "execution_count": 5,
   "metadata": {},
   "outputs": [
    {
     "name": "stdout",
     "output_type": "stream",
     "text": [
      "part1: 403695602\n"
     ]
    }
   ],
   "source": [
    "min_value = 999999999999999999999999999999999999\n",
    "seed_details = {}\n",
    "\n",
    "for seed in seeds:\n",
    "    soil = get_value(maps[\"seed-to-soil\"], int(seed))\n",
    "    fertilizer = get_value(maps[\"soil-to-fertilizer\"], soil)\n",
    "    water = get_value(maps[\"fertilizer-to-water\"], fertilizer)\n",
    "    light = get_value(maps[\"water-to-light\"], water)\n",
    "    temperature = get_value(maps[\"light-to-temperature\"], light)\n",
    "    humidity = get_value(maps[\"temperature-to-humidity\"], temperature)\n",
    "    location = get_value(maps[\"humidity-to-location\"], humidity)\n",
    "    if location < min_value:\n",
    "        min_value = location\n",
    "    seed_details[seed] = {\n",
    "        \"seed\": seed,\n",
    "        \"soil\": soil,\n",
    "        \"fertilizer\": fertilizer,\n",
    "        \"water\": water,\n",
    "        \"light\": light,\n",
    "        \"temperature\": temperature,\n",
    "        \"humidity\": humidity,\n",
    "        \"location\": location\n",
    "    }\n",
    "print(f\"part1: {min_value}\")\n"
   ]
  },
  {
   "cell_type": "code",
   "execution_count": 6,
   "metadata": {},
   "outputs": [],
   "source": [
    "def get_value_range(dict, ranges, output_ranges = []):\n",
    "    if len(ranges) == 0:\n",
    "        return output_ranges\n",
    "    key_under = max([i for i in list(dict.keys()) if i <= ranges[0][0]], default=None)\n",
    "    if key_under is None:\n",
    "        return get_value_range(dict, ranges[1:], output_ranges + [(ranges[0][0], ranges[0][1])])\n",
    "    range_length = dict[key_under][\"cnt\"]\n",
    "    if key_under <= ranges[0][0] < range_length + key_under: # if we start\n",
    "        if ranges[0][0]+ranges[0][1] <= range_length + key_under: #fullRange is in the first range\\\n",
    "            return get_value_range(dict, ranges[1:], output_ranges + [(ranges[0][0] + dict[key_under][\"diff\"], ranges[0][1])])\n",
    "        else:\n",
    "            rr = ranges[1:] + [(ranges[0][0] + ( range_length - (ranges[0][0]-key_under)), ranges[0][1] - ( range_length - (ranges[0][0]-key_under)))]\n",
    "            rro = output_ranges + [(ranges[0][0] + dict[key_under][\"diff\"], range_length - (ranges[0][0]-key_under))]\n",
    "            return get_value_range(dict, rr, rro)\n",
    "    else:\n",
    "        return get_value_range(dict, ranges[1:], output_ranges + [(ranges[0][0], ranges[0][1])])\n"
   ]
  },
  {
   "cell_type": "code",
   "execution_count": 7,
   "metadata": {},
   "outputs": [
    {
     "name": "stdout",
     "output_type": "stream",
     "text": [
      "Execution time: 0.0009732246398925781 seconds\n",
      "part2: 219529182\n"
     ]
    }
   ],
   "source": [
    "import time\n",
    "\n",
    "# get the start time\n",
    "st = time.time()\n",
    "final_location = []\n",
    "for seed_tupple in seed_groups:\n",
    "    soil = get_value_range(maps[\"seed-to-soil\"], [seed_tupple])\n",
    "    fertilizer = get_value_range(maps[\"soil-to-fertilizer\"], soil)\n",
    "    water = get_value_range(maps[\"fertilizer-to-water\"], fertilizer)\n",
    "    light = get_value_range(maps[\"water-to-light\"], water)\n",
    "    temperature = get_value_range(maps[\"light-to-temperature\"], light)\n",
    "    humidity = get_value_range(maps[\"temperature-to-humidity\"], temperature)\n",
    "    location = get_value_range(maps[\"humidity-to-location\"], humidity)\n",
    "    final_location.append(location)\n",
    "\n",
    "min_value = 9999999999999\n",
    "for location in final_location:\n",
    "    for points in location:\n",
    "        if points[0] < min_value:\n",
    "            min_value = points[0]\n",
    "et = time.time()\n",
    "\n",
    "# get the execution time\n",
    "elapsed_time = et - st\n",
    "print('Execution time:', elapsed_time, 'seconds')\n",
    "print(f\"part2: {min_value}\")\n"
   ]
  }
 ],
 "metadata": {
  "kernelspec": {
   "display_name": "Python 3",
   "language": "python",
   "name": "python3"
  },
  "language_info": {
   "codemirror_mode": {
    "name": "ipython",
    "version": 3
   },
   "file_extension": ".py",
   "mimetype": "text/x-python",
   "name": "python",
   "nbconvert_exporter": "python",
   "pygments_lexer": "ipython3",
   "version": "3.11.5"
  }
 },
 "nbformat": 4,
 "nbformat_minor": 2
}
